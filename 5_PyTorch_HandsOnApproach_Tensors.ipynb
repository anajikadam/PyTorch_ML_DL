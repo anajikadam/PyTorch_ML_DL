{
  "cells": [
    {
      "cell_type": "markdown",
      "source": [
        "# Perform various operations on the building block of PyTorch : Tensors"
      ],
      "metadata": {
        "id": "FJ5h7K1O96ph"
      }
    },
    {
      "cell_type": "markdown",
      "metadata": {
        "id": "LOHJymgGfX7c"
      },
      "source": [
        "# Pytorch: Tensors\n",
        "\n",
        "---\n",
        "\n",
        "\n",
        "\n",
        "### Contents:\n",
        "1. Create tensor\n",
        "2. Tensor attributes\n",
        "3. Arithmetic operations\n",
        "4. Trigonometric operations\n",
        "5. Functions using tensors\n",
        "6. Gradients\n",
        "\n",
        "\n",
        "---\n",
        "\n"
      ]
    },
    {
      "cell_type": "markdown",
      "source": [
        "- Type and Size: Each tensor has an associated type and size. The default tensor type when you use\n",
        "the torch.Tensor constructor is torch.FloatTensor. However, you can convert a tensor to a\n",
        "different type (float, long, double, etc.) by specifying it at initialization or later using one of the\n",
        "typecasting methods.\n",
        "### Three attributes which uniquely define a tensor are:\n",
        "- dtype: What is actually stored in each element of the tensor? This could be floats or integers etc.\n",
        "- PyTorch has nine different data types.\n",
        "- layout: How we logically interpret this physical memory. The most common layout is a strided\n",
        "tensor. Strides are a list of integers: the k-th stride represents the jump in the memory necessary to\n",
        "go from one element to the next one in the k-th dimension of the Tensor.\n",
        "- device: Where the tensor's physical memory is actually stored, e.g., on a CPU, or a GPU.\n",
        "The torch.device contains a device type ('cpu' or 'cuda') and optional device ordinal for the device\n",
        "type"
      ],
      "metadata": {
        "id": "UHCZUjFaAG4T"
      }
    },
    {
      "cell_type": "markdown",
      "metadata": {
        "id": "ggyzMJRIioYv"
      },
      "source": [
        "### 0. Import required libraries and prepare data"
      ]
    },
    {
      "cell_type": "code",
      "execution_count": null,
      "metadata": {
        "id": "8PC4UjXX9jG7"
      },
      "outputs": [],
      "source": [
        "!pip install torch -q\n",
        "!pip install pandas -q"
      ]
    },
    {
      "cell_type": "code",
      "execution_count": null,
      "metadata": {
        "id": "-E4sMwTWiijU",
        "scrolled": true
      },
      "outputs": [],
      "source": [
        "import torch\n",
        "import pandas as pd"
      ]
    },
    {
      "cell_type": "markdown",
      "metadata": {
        "id": "OL3qE3D178UI"
      },
      "source": [
        "### 1. create tensors"
      ]
    },
    {
      "cell_type": "markdown",
      "metadata": {
        "id": "q8Ml8P39Z_RO"
      },
      "source": [
        "#### 1-D tensor"
      ]
    },
    {
      "cell_type": "code",
      "execution_count": null,
      "metadata": {
        "colab": {
          "base_uri": "https://localhost:8080/"
        },
        "id": "EJv-Nx5qj1Xl",
        "outputId": "10bcaac0-f997-42de-f781-a7a0bc1c1ece"
      },
      "outputs": [
        {
          "output_type": "stream",
          "name": "stdout",
          "text": [
            "tensor([1, 2, 3])\n"
          ]
        }
      ],
      "source": [
        "# one dimensional tensor\n",
        "x_list = [1,2,3]\n",
        "x = torch.tensor(x_list)\n",
        "print(x)"
      ]
    },
    {
      "cell_type": "markdown",
      "metadata": {
        "id": "yF9LgTpoaOCd"
      },
      "source": [
        "#### attributes of a tensor"
      ]
    },
    {
      "cell_type": "code",
      "execution_count": null,
      "metadata": {
        "colab": {
          "base_uri": "https://localhost:8080/"
        },
        "id": "AlO2xukJZ3YN",
        "outputId": "d5ae0ce3-06f3-46e4-8c0f-1ffa6a09907e"
      },
      "outputs": [
        {
          "output_type": "stream",
          "name": "stdout",
          "text": [
            "tenosr shape:  torch.Size([3])\n"
          ]
        }
      ],
      "source": [
        "# shape\n",
        "print('tenosr shape: ',x.shape)"
      ]
    },
    {
      "cell_type": "code",
      "execution_count": null,
      "metadata": {
        "colab": {
          "base_uri": "https://localhost:8080/"
        },
        "id": "lHDnzGVUaaLe",
        "outputId": "3a9f1385-c0fc-4072-f148-b38020e1c75c"
      },
      "outputs": [
        {
          "output_type": "stream",
          "name": "stdout",
          "text": [
            "tensor data type:  torch.int64\n"
          ]
        }
      ],
      "source": [
        "# data type\n",
        "print('tensor data type: ',x.dtype)"
      ]
    },
    {
      "cell_type": "code",
      "execution_count": null,
      "metadata": {
        "colab": {
          "base_uri": "https://localhost:8080/"
        },
        "id": "AwvUzgvFaddO",
        "outputId": "3b0fa50f-474e-4e48-95af-53aacccb60f5"
      },
      "outputs": [
        {
          "output_type": "stream",
          "name": "stdout",
          "text": [
            "tensor operations on device:  cpu\n"
          ]
        }
      ],
      "source": [
        "# device for operation\n",
        "print('tensor operations on device: ',x.device)"
      ]
    },
    {
      "cell_type": "markdown",
      "metadata": {
        "id": "jtkEJOPWavpR"
      },
      "source": [
        "#### 2-D tensor (also called matrix)"
      ]
    },
    {
      "cell_type": "code",
      "execution_count": null,
      "metadata": {
        "colab": {
          "base_uri": "https://localhost:8080/"
        },
        "id": "pTSODeAwaj5V",
        "outputId": "e3fe9c45-68e2-4938-e997-fdeba8f5faa2"
      },
      "outputs": [
        {
          "output_type": "stream",
          "name": "stdout",
          "text": [
            "tenosr shape:  torch.Size([2, 3])\n",
            "tensor data type:  torch.int64\n",
            "tensor operations on device:  cpu\n"
          ]
        }
      ],
      "source": [
        "x_list = [[1,2,3],[4,5,6]]\n",
        "x = torch.tensor(x_list)\n",
        "\n",
        "# tensor attributes\n",
        "# shape\n",
        "print('tenosr shape: ',x.shape)\n",
        "# data type\n",
        "print('tensor data type: ',x.dtype)\n",
        "# device for operation\n",
        "print('tensor operations on device: ',x.device)"
      ]
    },
    {
      "cell_type": "markdown",
      "metadata": {
        "id": "JuQxbIvybFHL"
      },
      "source": [
        "#### 3-D Tensor"
      ]
    },
    {
      "cell_type": "code",
      "execution_count": null,
      "metadata": {
        "colab": {
          "base_uri": "https://localhost:8080/"
        },
        "id": "xz6NK2X8bDXI",
        "outputId": "0aaded36-06ff-4255-b0c1-92a2c9e4ba8d"
      },
      "outputs": [
        {
          "output_type": "stream",
          "name": "stdout",
          "text": [
            "tenosr shape:  torch.Size([3, 2, 1])\n",
            "tensor data type:  torch.int64\n",
            "tensor operations on device:  cpu\n"
          ]
        }
      ],
      "source": [
        "# three dimensional array: tensor (>=3 dimensions)\n",
        "x_list = [[[1],[2]],[[3], [4]],[[5],[6]]]\n",
        "x = torch.tensor(x_list)\n",
        "\n",
        "# shape\n",
        "print('tenosr shape: ',x.shape)\n",
        "# data type\n",
        "print('tensor data type: ',x.dtype)\n",
        "# device for operation\n",
        "print('tensor operations on device: ',x.device)"
      ]
    },
    {
      "cell_type": "markdown",
      "metadata": {
        "id": "VnsjuXbDUjNG"
      },
      "source": [
        "#### empty tensor"
      ]
    },
    {
      "cell_type": "code",
      "execution_count": null,
      "metadata": {
        "colab": {
          "base_uri": "https://localhost:8080/"
        },
        "id": "xH3i1xIbj787",
        "outputId": "c6f7f7f0-1e30-48e0-eb04-63d786fee26d"
      },
      "outputs": [
        {
          "output_type": "stream",
          "name": "stdout",
          "text": [
            "empty tensor \n",
            " tensor([1., 1., 1., 1., 1., 1.])\n"
          ]
        }
      ],
      "source": [
        "# create empty tensor\n",
        "x = torch.ones((6))\n",
        "print('empty tensor \\n', x)\n"
      ]
    },
    {
      "cell_type": "code",
      "execution_count": null,
      "metadata": {
        "colab": {
          "base_uri": "https://localhost:8080/"
        },
        "id": "9M4_lnPZXYE8",
        "outputId": "177dc60c-8255-457a-9344-0071eed6385e"
      },
      "outputs": [
        {
          "output_type": "stream",
          "name": "stdout",
          "text": [
            "modified tensor \n",
            " tensor([4., 4., 4., 4., 4., 4.])\n"
          ]
        }
      ],
      "source": [
        "# modify tensor through indexing and assignment\n",
        "for i in range(6):\n",
        "    x[i] = x[i]+3\n",
        "\n",
        "print('modified tensor \\n', x)"
      ]
    },
    {
      "cell_type": "markdown",
      "metadata": {
        "id": "zz0cACVFUX9M"
      },
      "source": [
        "## Creating tensors from Dataset"
      ]
    },
    {
      "cell_type": "code",
      "execution_count": null,
      "metadata": {
        "colab": {
          "base_uri": "https://localhost:8080/"
        },
        "id": "Y7gXBzpD2jkS",
        "outputId": "ad0a5738-7bd9-42b4-baec-f9a4c5173310"
      },
      "outputs": [
        {
          "output_type": "stream",
          "name": "stdout",
          "text": [
            "The dataset has 16 attributes : \n",
            " ['year' 'customer_id' 'phone_no' 'gender' 'age' 'no_of_days_subscribed'\n",
            " 'multi_screen' 'mail_subscribed' 'weekly_mins_watched'\n",
            " 'minimum_daily_mins' 'maximum_daily_mins' 'weekly_max_night_mins'\n",
            " 'videos_watched' 'maximum_days_inactive' 'customer_support_calls' 'churn']\n"
          ]
        }
      ],
      "source": [
        "#%% convert features of a dataset into tensor\n",
        "data_path = \"../Input\"\n",
        "# read dataset stored as csv using pandas\n",
        "file_path = data_path + '/churn_data.csv'\n",
        "file_path =  '/content/churn_data.csv'\n",
        "# read csv file\n",
        "df = pd.read_csv(file_path)\n",
        "# features of the dataset\n",
        "columns_names = df.columns.values\n",
        "print('The dataset has {} attributes : \\n {}'.format(len(columns_names), columns_names))\n"
      ]
    },
    {
      "cell_type": "code",
      "source": [
        "df.shape"
      ],
      "metadata": {
        "colab": {
          "base_uri": "https://localhost:8080/"
        },
        "id": "gluuR4pfJxP-",
        "outputId": "ec02a530-2053-4aa5-9696-9706f4091888"
      },
      "execution_count": null,
      "outputs": [
        {
          "output_type": "execute_result",
          "data": {
            "text/plain": [
              "(2000, 16)"
            ]
          },
          "metadata": {},
          "execution_count": 16
        }
      ]
    },
    {
      "cell_type": "code",
      "execution_count": null,
      "metadata": {
        "colab": {
          "base_uri": "https://localhost:8080/",
          "height": 226
        },
        "id": "3mSh8s2z9jHJ",
        "outputId": "13230955-d9e9-49d1-b793-a1f8061d8f4e"
      },
      "outputs": [
        {
          "output_type": "execute_result",
          "data": {
            "text/plain": [
              "   year  customer_id  phone_no  gender  age  no_of_days_subscribed  \\\n",
              "0  2015       100198  409-8743  Female   36                     62   \n",
              "1  2015       100643  340-5930  Female   39                    149   \n",
              "2  2015       100756  372-3750  Female   65                    126   \n",
              "3  2015       101595  331-4902  Female   24                    131   \n",
              "4  2015       101653  351-8398  Female   40                    191   \n",
              "\n",
              "  multi_screen mail_subscribed  weekly_mins_watched  minimum_daily_mins  \\\n",
              "0           no              no               148.35                12.2   \n",
              "1           no              no               294.45                 7.7   \n",
              "2           no              no                87.30                11.9   \n",
              "3           no             yes               321.30                 9.5   \n",
              "4           no              no               243.00                10.9   \n",
              "\n",
              "   maximum_daily_mins  weekly_max_night_mins  videos_watched  \\\n",
              "0               16.81                     82               1   \n",
              "1               33.37                     87               3   \n",
              "2                9.89                     91               1   \n",
              "3               36.41                    102               4   \n",
              "4               27.54                     83               7   \n",
              "\n",
              "   maximum_days_inactive  customer_support_calls  churn  \n",
              "0                    4.0                       1    0.0  \n",
              "1                    3.0                       2    0.0  \n",
              "2                    4.0                       5    1.0  \n",
              "3                    3.0                       3    0.0  \n",
              "4                    3.0                       1    0.0  "
            ],
            "text/html": [
              "\n",
              "  <div id=\"df-f32fedc2-f007-4f30-a5f5-caa640b10386\" class=\"colab-df-container\">\n",
              "    <div>\n",
              "<style scoped>\n",
              "    .dataframe tbody tr th:only-of-type {\n",
              "        vertical-align: middle;\n",
              "    }\n",
              "\n",
              "    .dataframe tbody tr th {\n",
              "        vertical-align: top;\n",
              "    }\n",
              "\n",
              "    .dataframe thead th {\n",
              "        text-align: right;\n",
              "    }\n",
              "</style>\n",
              "<table border=\"1\" class=\"dataframe\">\n",
              "  <thead>\n",
              "    <tr style=\"text-align: right;\">\n",
              "      <th></th>\n",
              "      <th>year</th>\n",
              "      <th>customer_id</th>\n",
              "      <th>phone_no</th>\n",
              "      <th>gender</th>\n",
              "      <th>age</th>\n",
              "      <th>no_of_days_subscribed</th>\n",
              "      <th>multi_screen</th>\n",
              "      <th>mail_subscribed</th>\n",
              "      <th>weekly_mins_watched</th>\n",
              "      <th>minimum_daily_mins</th>\n",
              "      <th>maximum_daily_mins</th>\n",
              "      <th>weekly_max_night_mins</th>\n",
              "      <th>videos_watched</th>\n",
              "      <th>maximum_days_inactive</th>\n",
              "      <th>customer_support_calls</th>\n",
              "      <th>churn</th>\n",
              "    </tr>\n",
              "  </thead>\n",
              "  <tbody>\n",
              "    <tr>\n",
              "      <th>0</th>\n",
              "      <td>2015</td>\n",
              "      <td>100198</td>\n",
              "      <td>409-8743</td>\n",
              "      <td>Female</td>\n",
              "      <td>36</td>\n",
              "      <td>62</td>\n",
              "      <td>no</td>\n",
              "      <td>no</td>\n",
              "      <td>148.35</td>\n",
              "      <td>12.2</td>\n",
              "      <td>16.81</td>\n",
              "      <td>82</td>\n",
              "      <td>1</td>\n",
              "      <td>4.0</td>\n",
              "      <td>1</td>\n",
              "      <td>0.0</td>\n",
              "    </tr>\n",
              "    <tr>\n",
              "      <th>1</th>\n",
              "      <td>2015</td>\n",
              "      <td>100643</td>\n",
              "      <td>340-5930</td>\n",
              "      <td>Female</td>\n",
              "      <td>39</td>\n",
              "      <td>149</td>\n",
              "      <td>no</td>\n",
              "      <td>no</td>\n",
              "      <td>294.45</td>\n",
              "      <td>7.7</td>\n",
              "      <td>33.37</td>\n",
              "      <td>87</td>\n",
              "      <td>3</td>\n",
              "      <td>3.0</td>\n",
              "      <td>2</td>\n",
              "      <td>0.0</td>\n",
              "    </tr>\n",
              "    <tr>\n",
              "      <th>2</th>\n",
              "      <td>2015</td>\n",
              "      <td>100756</td>\n",
              "      <td>372-3750</td>\n",
              "      <td>Female</td>\n",
              "      <td>65</td>\n",
              "      <td>126</td>\n",
              "      <td>no</td>\n",
              "      <td>no</td>\n",
              "      <td>87.30</td>\n",
              "      <td>11.9</td>\n",
              "      <td>9.89</td>\n",
              "      <td>91</td>\n",
              "      <td>1</td>\n",
              "      <td>4.0</td>\n",
              "      <td>5</td>\n",
              "      <td>1.0</td>\n",
              "    </tr>\n",
              "    <tr>\n",
              "      <th>3</th>\n",
              "      <td>2015</td>\n",
              "      <td>101595</td>\n",
              "      <td>331-4902</td>\n",
              "      <td>Female</td>\n",
              "      <td>24</td>\n",
              "      <td>131</td>\n",
              "      <td>no</td>\n",
              "      <td>yes</td>\n",
              "      <td>321.30</td>\n",
              "      <td>9.5</td>\n",
              "      <td>36.41</td>\n",
              "      <td>102</td>\n",
              "      <td>4</td>\n",
              "      <td>3.0</td>\n",
              "      <td>3</td>\n",
              "      <td>0.0</td>\n",
              "    </tr>\n",
              "    <tr>\n",
              "      <th>4</th>\n",
              "      <td>2015</td>\n",
              "      <td>101653</td>\n",
              "      <td>351-8398</td>\n",
              "      <td>Female</td>\n",
              "      <td>40</td>\n",
              "      <td>191</td>\n",
              "      <td>no</td>\n",
              "      <td>no</td>\n",
              "      <td>243.00</td>\n",
              "      <td>10.9</td>\n",
              "      <td>27.54</td>\n",
              "      <td>83</td>\n",
              "      <td>7</td>\n",
              "      <td>3.0</td>\n",
              "      <td>1</td>\n",
              "      <td>0.0</td>\n",
              "    </tr>\n",
              "  </tbody>\n",
              "</table>\n",
              "</div>\n",
              "    <div class=\"colab-df-buttons\">\n",
              "\n",
              "  <div class=\"colab-df-container\">\n",
              "    <button class=\"colab-df-convert\" onclick=\"convertToInteractive('df-f32fedc2-f007-4f30-a5f5-caa640b10386')\"\n",
              "            title=\"Convert this dataframe to an interactive table.\"\n",
              "            style=\"display:none;\">\n",
              "\n",
              "  <svg xmlns=\"http://www.w3.org/2000/svg\" height=\"24px\" viewBox=\"0 -960 960 960\">\n",
              "    <path d=\"M120-120v-720h720v720H120Zm60-500h600v-160H180v160Zm220 220h160v-160H400v160Zm0 220h160v-160H400v160ZM180-400h160v-160H180v160Zm440 0h160v-160H620v160ZM180-180h160v-160H180v160Zm440 0h160v-160H620v160Z\"/>\n",
              "  </svg>\n",
              "    </button>\n",
              "\n",
              "  <style>\n",
              "    .colab-df-container {\n",
              "      display:flex;\n",
              "      gap: 12px;\n",
              "    }\n",
              "\n",
              "    .colab-df-convert {\n",
              "      background-color: #E8F0FE;\n",
              "      border: none;\n",
              "      border-radius: 50%;\n",
              "      cursor: pointer;\n",
              "      display: none;\n",
              "      fill: #1967D2;\n",
              "      height: 32px;\n",
              "      padding: 0 0 0 0;\n",
              "      width: 32px;\n",
              "    }\n",
              "\n",
              "    .colab-df-convert:hover {\n",
              "      background-color: #E2EBFA;\n",
              "      box-shadow: 0px 1px 2px rgba(60, 64, 67, 0.3), 0px 1px 3px 1px rgba(60, 64, 67, 0.15);\n",
              "      fill: #174EA6;\n",
              "    }\n",
              "\n",
              "    .colab-df-buttons div {\n",
              "      margin-bottom: 4px;\n",
              "    }\n",
              "\n",
              "    [theme=dark] .colab-df-convert {\n",
              "      background-color: #3B4455;\n",
              "      fill: #D2E3FC;\n",
              "    }\n",
              "\n",
              "    [theme=dark] .colab-df-convert:hover {\n",
              "      background-color: #434B5C;\n",
              "      box-shadow: 0px 1px 3px 1px rgba(0, 0, 0, 0.15);\n",
              "      filter: drop-shadow(0px 1px 2px rgba(0, 0, 0, 0.3));\n",
              "      fill: #FFFFFF;\n",
              "    }\n",
              "  </style>\n",
              "\n",
              "    <script>\n",
              "      const buttonEl =\n",
              "        document.querySelector('#df-f32fedc2-f007-4f30-a5f5-caa640b10386 button.colab-df-convert');\n",
              "      buttonEl.style.display =\n",
              "        google.colab.kernel.accessAllowed ? 'block' : 'none';\n",
              "\n",
              "      async function convertToInteractive(key) {\n",
              "        const element = document.querySelector('#df-f32fedc2-f007-4f30-a5f5-caa640b10386');\n",
              "        const dataTable =\n",
              "          await google.colab.kernel.invokeFunction('convertToInteractive',\n",
              "                                                    [key], {});\n",
              "        if (!dataTable) return;\n",
              "\n",
              "        const docLinkHtml = 'Like what you see? Visit the ' +\n",
              "          '<a target=\"_blank\" href=https://colab.research.google.com/notebooks/data_table.ipynb>data table notebook</a>'\n",
              "          + ' to learn more about interactive tables.';\n",
              "        element.innerHTML = '';\n",
              "        dataTable['output_type'] = 'display_data';\n",
              "        await google.colab.output.renderOutput(dataTable, element);\n",
              "        const docLink = document.createElement('div');\n",
              "        docLink.innerHTML = docLinkHtml;\n",
              "        element.appendChild(docLink);\n",
              "      }\n",
              "    </script>\n",
              "  </div>\n",
              "\n",
              "\n",
              "<div id=\"df-a14e2316-d8f8-47d6-ac82-100387813385\">\n",
              "  <button class=\"colab-df-quickchart\" onclick=\"quickchart('df-a14e2316-d8f8-47d6-ac82-100387813385')\"\n",
              "            title=\"Suggest charts\"\n",
              "            style=\"display:none;\">\n",
              "\n",
              "<svg xmlns=\"http://www.w3.org/2000/svg\" height=\"24px\"viewBox=\"0 0 24 24\"\n",
              "     width=\"24px\">\n",
              "    <g>\n",
              "        <path d=\"M19 3H5c-1.1 0-2 .9-2 2v14c0 1.1.9 2 2 2h14c1.1 0 2-.9 2-2V5c0-1.1-.9-2-2-2zM9 17H7v-7h2v7zm4 0h-2V7h2v10zm4 0h-2v-4h2v4z\"/>\n",
              "    </g>\n",
              "</svg>\n",
              "  </button>\n",
              "\n",
              "<style>\n",
              "  .colab-df-quickchart {\n",
              "      --bg-color: #E8F0FE;\n",
              "      --fill-color: #1967D2;\n",
              "      --hover-bg-color: #E2EBFA;\n",
              "      --hover-fill-color: #174EA6;\n",
              "      --disabled-fill-color: #AAA;\n",
              "      --disabled-bg-color: #DDD;\n",
              "  }\n",
              "\n",
              "  [theme=dark] .colab-df-quickchart {\n",
              "      --bg-color: #3B4455;\n",
              "      --fill-color: #D2E3FC;\n",
              "      --hover-bg-color: #434B5C;\n",
              "      --hover-fill-color: #FFFFFF;\n",
              "      --disabled-bg-color: #3B4455;\n",
              "      --disabled-fill-color: #666;\n",
              "  }\n",
              "\n",
              "  .colab-df-quickchart {\n",
              "    background-color: var(--bg-color);\n",
              "    border: none;\n",
              "    border-radius: 50%;\n",
              "    cursor: pointer;\n",
              "    display: none;\n",
              "    fill: var(--fill-color);\n",
              "    height: 32px;\n",
              "    padding: 0;\n",
              "    width: 32px;\n",
              "  }\n",
              "\n",
              "  .colab-df-quickchart:hover {\n",
              "    background-color: var(--hover-bg-color);\n",
              "    box-shadow: 0 1px 2px rgba(60, 64, 67, 0.3), 0 1px 3px 1px rgba(60, 64, 67, 0.15);\n",
              "    fill: var(--button-hover-fill-color);\n",
              "  }\n",
              "\n",
              "  .colab-df-quickchart-complete:disabled,\n",
              "  .colab-df-quickchart-complete:disabled:hover {\n",
              "    background-color: var(--disabled-bg-color);\n",
              "    fill: var(--disabled-fill-color);\n",
              "    box-shadow: none;\n",
              "  }\n",
              "\n",
              "  .colab-df-spinner {\n",
              "    border: 2px solid var(--fill-color);\n",
              "    border-color: transparent;\n",
              "    border-bottom-color: var(--fill-color);\n",
              "    animation:\n",
              "      spin 1s steps(1) infinite;\n",
              "  }\n",
              "\n",
              "  @keyframes spin {\n",
              "    0% {\n",
              "      border-color: transparent;\n",
              "      border-bottom-color: var(--fill-color);\n",
              "      border-left-color: var(--fill-color);\n",
              "    }\n",
              "    20% {\n",
              "      border-color: transparent;\n",
              "      border-left-color: var(--fill-color);\n",
              "      border-top-color: var(--fill-color);\n",
              "    }\n",
              "    30% {\n",
              "      border-color: transparent;\n",
              "      border-left-color: var(--fill-color);\n",
              "      border-top-color: var(--fill-color);\n",
              "      border-right-color: var(--fill-color);\n",
              "    }\n",
              "    40% {\n",
              "      border-color: transparent;\n",
              "      border-right-color: var(--fill-color);\n",
              "      border-top-color: var(--fill-color);\n",
              "    }\n",
              "    60% {\n",
              "      border-color: transparent;\n",
              "      border-right-color: var(--fill-color);\n",
              "    }\n",
              "    80% {\n",
              "      border-color: transparent;\n",
              "      border-right-color: var(--fill-color);\n",
              "      border-bottom-color: var(--fill-color);\n",
              "    }\n",
              "    90% {\n",
              "      border-color: transparent;\n",
              "      border-bottom-color: var(--fill-color);\n",
              "    }\n",
              "  }\n",
              "</style>\n",
              "\n",
              "  <script>\n",
              "    async function quickchart(key) {\n",
              "      const quickchartButtonEl =\n",
              "        document.querySelector('#' + key + ' button');\n",
              "      quickchartButtonEl.disabled = true;  // To prevent multiple clicks.\n",
              "      quickchartButtonEl.classList.add('colab-df-spinner');\n",
              "      try {\n",
              "        const charts = await google.colab.kernel.invokeFunction(\n",
              "            'suggestCharts', [key], {});\n",
              "      } catch (error) {\n",
              "        console.error('Error during call to suggestCharts:', error);\n",
              "      }\n",
              "      quickchartButtonEl.classList.remove('colab-df-spinner');\n",
              "      quickchartButtonEl.classList.add('colab-df-quickchart-complete');\n",
              "    }\n",
              "    (() => {\n",
              "      let quickchartButtonEl =\n",
              "        document.querySelector('#df-a14e2316-d8f8-47d6-ac82-100387813385 button');\n",
              "      quickchartButtonEl.style.display =\n",
              "        google.colab.kernel.accessAllowed ? 'block' : 'none';\n",
              "    })();\n",
              "  </script>\n",
              "</div>\n",
              "    </div>\n",
              "  </div>\n"
            ]
          },
          "metadata": {},
          "execution_count": 13
        }
      ],
      "source": [
        "df.head()"
      ]
    },
    {
      "cell_type": "code",
      "execution_count": null,
      "metadata": {
        "id": "aS-CI9HI43Og"
      },
      "outputs": [],
      "source": [
        "# create tensor using the weekly_mins_watched feature in the dataset\n",
        "x = torch.tensor(df[['weekly_mins_watched', 'minimum_daily_mins',\"maximum_daily_mins\"]].values)"
      ]
    },
    {
      "cell_type": "code",
      "execution_count": null,
      "metadata": {
        "colab": {
          "base_uri": "https://localhost:8080/"
        },
        "id": "3UIhuYpqMxQU",
        "outputId": "cf253422-5738-430a-93ee-d1bc2512855a"
      },
      "outputs": [
        {
          "output_type": "execute_result",
          "data": {
            "text/plain": [
              "torch.Size([2000, 3])"
            ]
          },
          "metadata": {},
          "execution_count": 15
        }
      ],
      "source": [
        "# tensor shape\n",
        "x.shape"
      ]
    },
    {
      "cell_type": "code",
      "execution_count": null,
      "metadata": {
        "colab": {
          "base_uri": "https://localhost:8080/"
        },
        "id": "LtItmQw1M4Ao",
        "outputId": "4e4e53bb-6207-4540-8616-5d1068d1aa95"
      },
      "outputs": [
        {
          "output_type": "execute_result",
          "data": {
            "text/plain": [
              "torch.float64"
            ]
          },
          "metadata": {},
          "execution_count": 17
        }
      ],
      "source": [
        "x.dtype"
      ]
    },
    {
      "cell_type": "code",
      "execution_count": null,
      "metadata": {
        "colab": {
          "base_uri": "https://localhost:8080/"
        },
        "id": "y3VzyENj9jHL",
        "outputId": "fc4be3c7-8476-4cf2-bc06-9984af98fc02"
      },
      "outputs": [
        {
          "output_type": "execute_result",
          "data": {
            "text/plain": [
              "tensor([[148.3500,  12.2000,  16.8100],\n",
              "        [294.4500,   7.7000,  33.3700],\n",
              "        [ 87.3000,  11.9000,   9.8900],\n",
              "        ...,\n",
              "        [128.8500,  15.6000,  14.6000],\n",
              "        [178.0500,  10.4000,  20.1800],\n",
              "        [326.7000,  10.3000,  37.0300]], dtype=torch.float64)"
            ]
          },
          "metadata": {},
          "execution_count": 18
        }
      ],
      "source": [
        "x"
      ]
    },
    {
      "cell_type": "markdown",
      "metadata": {
        "id": "n1c2t7Y-X3Er"
      },
      "source": [
        "## Arithmetic operations"
      ]
    },
    {
      "cell_type": "markdown",
      "source": [
        "Pytorch allows you to perform arithmetic operations on tensors. In this\n",
        "chapter of Pytorch tutorial, you will learn how to do arithmetic operations of Pytorch tensors.\n",
        "These operations can be performed by using pytorch arithmetic operation\n",
        "functions or python operands.\n",
        "## The arithmetic operations are performed element-wise.\n",
        "- Addition\n",
        "- Subtraction\n",
        "- Multiplication\n",
        "- Division\n",
        "- Exponent"
      ],
      "metadata": {
        "id": "S9A8zk7QKrFH"
      }
    },
    {
      "cell_type": "markdown",
      "metadata": {
        "id": "b8B_8J57X9F2"
      },
      "source": [
        "### Add and Subtract"
      ]
    },
    {
      "cell_type": "code",
      "execution_count": null,
      "metadata": {
        "colab": {
          "base_uri": "https://localhost:8080/"
        },
        "id": "_ufx0mRo5Gfe",
        "outputId": "44914428-74d7-46b5-bf5f-1f2f92c4e165"
      },
      "outputs": [
        {
          "output_type": "stream",
          "name": "stdout",
          "text": [
            "tensor([[296.7000,  24.4000,  33.6200],\n",
            "        [588.9000,  15.4000,  66.7400],\n",
            "        [174.6000,  23.8000,  19.7800],\n",
            "        ...,\n",
            "        [257.7000,  31.2000,  29.2000],\n",
            "        [356.1000,  20.8000,  40.3600],\n",
            "        [653.4000,  20.6000,  74.0600]], dtype=torch.float64)\n",
            "x2 shape: torch.Size([2000, 3]) \n",
            "\n"
          ]
        }
      ],
      "source": [
        "# add\n",
        "x2 = torch.add(x,x)\n",
        "print(x2)\n",
        "print('x2 shape: {} \\n'.format(x2.shape))\n"
      ]
    },
    {
      "cell_type": "code",
      "execution_count": null,
      "metadata": {
        "colab": {
          "base_uri": "https://localhost:8080/"
        },
        "id": "o7iMbbN_9jHN",
        "outputId": "9b2b4bc6-4313-4660-f02f-1631d24b7f1f"
      },
      "outputs": [
        {
          "output_type": "stream",
          "name": "stdout",
          "text": [
            "tensor([[296.7000,  24.4000,  33.6200],\n",
            "        [588.9000,  15.4000,  66.7400],\n",
            "        [174.6000,  23.8000,  19.7800],\n",
            "        ...,\n",
            "        [257.7000,  31.2000,  29.2000],\n",
            "        [356.1000,  20.8000,  40.3600],\n",
            "        [653.4000,  20.6000,  74.0600]], dtype=torch.float64)\n",
            "x2 shape: torch.Size([2000, 3])\n"
          ]
        }
      ],
      "source": [
        "x2 = x + x\n",
        "print(x2)\n",
        "print('x2 shape: {}'.format(x2.shape))"
      ]
    },
    {
      "cell_type": "code",
      "execution_count": null,
      "metadata": {
        "colab": {
          "base_uri": "https://localhost:8080/"
        },
        "id": "5Q9OxZX9O1Zu",
        "outputId": "56da2a29-f83e-4d50-c321-a309718b5baa"
      },
      "outputs": [
        {
          "output_type": "stream",
          "name": "stdout",
          "text": [
            "tensor([[0., 0., 0.],\n",
            "        [0., 0., 0.],\n",
            "        [0., 0., 0.],\n",
            "        ...,\n",
            "        [0., 0., 0.],\n",
            "        [0., 0., 0.],\n",
            "        [0., 0., 0.]], dtype=torch.float64)\n",
            "x_2 shape: torch.Size([2000, 3]) \n",
            "\n",
            "tensor([[-148.3500,  -12.2000,  -16.8100],\n",
            "        [-294.4500,   -7.7000,  -33.3700],\n",
            "        [ -87.3000,  -11.9000,   -9.8900],\n",
            "        ...,\n",
            "        [-128.8500,  -15.6000,  -14.6000],\n",
            "        [-178.0500,  -10.4000,  -20.1800],\n",
            "        [-326.7000,  -10.3000,  -37.0300]], dtype=torch.float64)\n",
            "x_2 shape: torch.Size([2000, 3])\n"
          ]
        }
      ],
      "source": [
        "# subtract\n",
        "x_2 = torch.subtract(x,x)\n",
        "print(x_2)\n",
        "print('x_2 shape: {} \\n'.format(x_2.shape))\n",
        "\n",
        "x_2 = x - 2 * x\n",
        "print(x_2)\n",
        "print('x_2 shape: {}'.format(x_2.shape))"
      ]
    },
    {
      "cell_type": "markdown",
      "metadata": {
        "id": "iI1xah5PYKGz"
      },
      "source": [
        "### Multiply"
      ]
    },
    {
      "cell_type": "code",
      "execution_count": null,
      "metadata": {
        "colab": {
          "base_uri": "https://localhost:8080/"
        },
        "id": "yMXkiwwR5Eui",
        "outputId": "47eaadc1-ecff-4982-e79f-be3e3cb7570e"
      },
      "outputs": [
        {
          "output_type": "stream",
          "name": "stdout",
          "text": [
            "torch.Size([5, 3])\n"
          ]
        }
      ],
      "source": [
        "# element wise multiplication\n",
        "x_mult = x[0:5,:] * x[0:5,:]\n",
        "print(x_mult.shape)"
      ]
    },
    {
      "cell_type": "code",
      "execution_count": null,
      "metadata": {
        "colab": {
          "base_uri": "https://localhost:8080/"
        },
        "id": "cEnBRZ3l9jHO",
        "outputId": "2874acc4-677f-4bfd-df55-d505edbc0db3"
      },
      "outputs": [
        {
          "output_type": "execute_result",
          "data": {
            "text/plain": [
              "tensor([[2.2008e+04, 1.4884e+02, 2.8258e+02],\n",
              "        [8.6701e+04, 5.9290e+01, 1.1136e+03],\n",
              "        [7.6213e+03, 1.4161e+02, 9.7812e+01],\n",
              "        [1.0323e+05, 9.0250e+01, 1.3257e+03],\n",
              "        [5.9049e+04, 1.1881e+02, 7.5845e+02]], dtype=torch.float64)"
            ]
          },
          "metadata": {},
          "execution_count": 23
        }
      ],
      "source": [
        "x_mult"
      ]
    },
    {
      "cell_type": "code",
      "execution_count": null,
      "metadata": {
        "colab": {
          "base_uri": "https://localhost:8080/"
        },
        "id": "8SwvKX0ePahC",
        "outputId": "613e4fbb-b6f0-4dbf-c92d-e3cb60dc9d1b",
        "scrolled": true
      },
      "outputs": [
        {
          "output_type": "stream",
          "name": "stdout",
          "text": [
            "torch.Size([5, 5])\n"
          ]
        }
      ],
      "source": [
        "# matrix multiplication of sliced tensor with transpose of it\n",
        "x_matmult = x[0:5,:] @ x[0:5,:].T\n",
        "print(x_matmult.shape)\n",
        "# 5 X 3 | 3 X 5 = 5 x 5"
      ]
    },
    {
      "cell_type": "code",
      "execution_count": null,
      "metadata": {
        "colab": {
          "base_uri": "https://localhost:8080/"
        },
        "id": "bf2ZO6v79jHP",
        "outputId": "460751ac-58bf-470d-a8b2-e743ecff302d"
      },
      "outputs": [
        {
          "output_type": "execute_result",
          "data": {
            "text/plain": [
              "tensor([[ 22439.1386,  44336.5472,  13262.3859,  48392.8071,  36644.9774],\n",
              "        [ 44336.5472,  87873.6494,  26127.1443,  95894.9367,  72554.2898],\n",
              "        [ 13262.3859,  26127.1443,   7860.7121,  28522.6349,  21615.9806],\n",
              "        [ 48392.8071,  95894.9367,  28522.6349, 104649.6281,  79182.1814],\n",
              "        [ 36644.9774,  72554.2898,  21615.9806,  79182.1814,  59926.2616]],\n",
              "       dtype=torch.float64)"
            ]
          },
          "metadata": {},
          "execution_count": 25
        }
      ],
      "source": [
        "x_matmult"
      ]
    },
    {
      "cell_type": "markdown",
      "metadata": {
        "id": "ItfJYFslYZo0"
      },
      "source": [
        "### Trigonometric Operations"
      ]
    },
    {
      "cell_type": "code",
      "execution_count": null,
      "metadata": {
        "colab": {
          "base_uri": "https://localhost:8080/"
        },
        "id": "YAHavZBk5NMO",
        "outputId": "0bb31713-8a51-447d-aac1-d841317cb738"
      },
      "outputs": [
        {
          "output_type": "stream",
          "name": "stdout",
          "text": [
            "tensor([[-0.7680,  0.9336, -0.4518],\n",
            "        [ 0.6527,  0.1534, -0.3740],\n",
            "        [ 0.7872,  0.7861, -0.8937],\n",
            "        [ 0.6543, -0.9972,  0.2780],\n",
            "        [-0.4559, -0.0954, -0.7423]], dtype=torch.float64)\n"
          ]
        }
      ],
      "source": [
        "#%% All trignonometric functions can be performed on tensors\n",
        "# the values are considered in radians\n",
        "\n",
        "x_cos = torch.cos(x[:5,:])\n",
        "print(x_cos)\n"
      ]
    },
    {
      "cell_type": "code",
      "execution_count": null,
      "metadata": {
        "colab": {
          "base_uri": "https://localhost:8080/"
        },
        "id": "HgiY1-zL9jHQ",
        "outputId": "eafd5497-160d-4ca2-b71f-900c63da4db6"
      },
      "outputs": [
        {
          "output_type": "stream",
          "name": "stdout",
          "text": [
            "tensor([[-0.6405, -0.3582, -0.8921],\n",
            "        [-0.7577,  0.9882,  0.9274],\n",
            "        [-0.6167, -0.6181, -0.4486],\n",
            "        [ 0.7562, -0.0752, -0.9606],\n",
            "        [-0.8900, -0.9954,  0.6701]], dtype=torch.float64)\n"
          ]
        }
      ],
      "source": [
        "\n",
        "x_sin = torch.sin(x[:5,:])\n",
        "print(x_sin)\n"
      ]
    },
    {
      "cell_type": "markdown",
      "metadata": {
        "id": "avnRWoEsYgRP"
      },
      "source": [
        "### Statistics"
      ]
    },
    {
      "cell_type": "code",
      "execution_count": null,
      "metadata": {
        "colab": {
          "base_uri": "https://localhost:8080/"
        },
        "id": "EP1phMWc5RR7",
        "outputId": "7e8f421b-5eda-44a8-95ba-9ee0ff11f161"
      },
      "outputs": [
        {
          "output_type": "stream",
          "name": "stdout",
          "text": [
            "tensor([270.1784,  10.1987,  30.6208], dtype=torch.float64)\n"
          ]
        }
      ],
      "source": [
        "#%% math operations for statistics\n",
        "\n",
        "# calculate mean value of the number of weekly_mins_watched, minimum daily mins\n",
        "x_mean = x.mean(dim=0)\n",
        "print(x_mean)"
      ]
    },
    {
      "cell_type": "code",
      "execution_count": null,
      "metadata": {
        "colab": {
          "base_uri": "https://localhost:8080/"
        },
        "id": "awDIW5MTP9NZ",
        "outputId": "0a297d18-0011-4cdb-960e-e41a41680844"
      },
      "outputs": [
        {
          "output_type": "stream",
          "name": "stdout",
          "text": [
            "torch.return_types.median(\n",
            "values=tensor([269.8500,  10.2000,  30.5800], dtype=torch.float64),\n",
            "indices=tensor([ 263, 1157,  263]))\n"
          ]
        }
      ],
      "source": [
        "# calculate mean value of the number of weekly_mins_watched, minimum daily mins\n",
        "x_median = x.median(dim=0)\n",
        "print(x_median)"
      ]
    },
    {
      "cell_type": "markdown",
      "metadata": {
        "id": "hmakGma0YrGN"
      },
      "source": [
        "## Functions\n",
        "tensors can be used to create functions"
      ]
    },
    {
      "cell_type": "markdown",
      "metadata": {
        "id": "aESzsovNatOF"
      },
      "source": [
        "### Example 1:\n",
        "$F(x)$ is a function of $x$  \n",
        "$F(x) = x^2 + 2x + 1$"
      ]
    },
    {
      "cell_type": "code",
      "execution_count": null,
      "metadata": {
        "colab": {
          "base_uri": "https://localhost:8080/"
        },
        "id": "RtSo3UJKYx8I",
        "outputId": "b82edf9e-58ef-40fc-b4a0-c496954c4ed1"
      },
      "outputs": [
        {
          "output_type": "stream",
          "name": "stdout",
          "text": [
            "tensor([1., 1., 1., 1., 1., 1.])\n"
          ]
        }
      ],
      "source": [
        "### 1-D tensor\n",
        "x = torch.ones((6))\n",
        "print(x)"
      ]
    },
    {
      "cell_type": "code",
      "execution_count": null,
      "metadata": {
        "colab": {
          "base_uri": "https://localhost:8080/"
        },
        "id": "CcVOL_IDZ8mM",
        "outputId": "e2c7fc05-0057-4fb4-a316-e734bb8738eb"
      },
      "outputs": [
        {
          "output_type": "stream",
          "name": "stdout",
          "text": [
            "tensor([4., 4., 4., 4., 4., 4.])\n"
          ]
        }
      ],
      "source": [
        "f = x**2 + 2*x + 1\n",
        "print(f)"
      ]
    },
    {
      "cell_type": "code",
      "execution_count": null,
      "metadata": {
        "colab": {
          "base_uri": "https://localhost:8080/"
        },
        "id": "ttZelaNmbydE",
        "outputId": "8ed91051-f29b-476b-b9ec-0101fb1dc6a2"
      },
      "outputs": [
        {
          "output_type": "stream",
          "name": "stdout",
          "text": [
            "tensor([[4., 4.],\n",
            "        [4., 4.],\n",
            "        [4., 4.]])\n"
          ]
        }
      ],
      "source": [
        "### 2-D tensor\n",
        "x = torch.ones((3,2))\n",
        "f = x**2 + 2*x + 1\n",
        "print(f)"
      ]
    },
    {
      "cell_type": "markdown",
      "metadata": {
        "id": "eVUAJ8VjqDKy"
      },
      "source": [
        "### Example 2:\n",
        "$H(x)$ is a function of $F(x)$  \n",
        "$H(x) = 3F(x) + 1$"
      ]
    },
    {
      "cell_type": "code",
      "execution_count": null,
      "metadata": {
        "colab": {
          "base_uri": "https://localhost:8080/"
        },
        "id": "fj1sHyHrpmp4",
        "outputId": "655e96e9-57ca-4b5e-a296-1fb56643022c"
      },
      "outputs": [
        {
          "output_type": "stream",
          "name": "stdout",
          "text": [
            "tensor([[13., 13.],\n",
            "        [13., 13.],\n",
            "        [13., 13.]])\n"
          ]
        }
      ],
      "source": [
        "h = 3*f + 1\n",
        "print(h)"
      ]
    },
    {
      "cell_type": "markdown",
      "metadata": {
        "id": "eVk-OTDccK54"
      },
      "source": [
        "## Gradients\n",
        "gradients are first order derivates of a function\n"
      ]
    },
    {
      "cell_type": "markdown",
      "metadata": {
        "id": "ILUiF-DEpL_p"
      },
      "source": [
        "### Example 1:\n",
        "$F(x)$ is a function of $x$  \n",
        "$F(x) = x^2 + 2x + 1$  \n",
        "\n",
        "$G(x)$ is the gradient of $F(x)$ with respect to $x$  \n",
        "$G(x) = \\frac{dF(x)}{dx} = 2(x + 1)$  "
      ]
    },
    {
      "cell_type": "code",
      "execution_count": null,
      "metadata": {
        "colab": {
          "base_uri": "https://localhost:8080/"
        },
        "id": "w_r99IQs5U2v",
        "outputId": "65593619-917a-4378-a1a3-30a21a0a8f27"
      },
      "outputs": [
        {
          "output_type": "stream",
          "name": "stdout",
          "text": [
            "tensor(12.)\n"
          ]
        }
      ],
      "source": [
        "#%% gradients are first order derivates of a function\n",
        "\n",
        "# create a tensor with gradient tracing enabled\n",
        "# tensors should be of floating point type to calculate gradients\n",
        "x = torch.tensor(5.0, requires_grad=True)\n",
        "\n",
        "# define function\n",
        "f = x**2 + 2*x + 1\n",
        "\n",
        "# compute gradients\n",
        "f.backward()\n",
        "\n",
        "# print the gradient value\n",
        "print(x.grad)\n"
      ]
    },
    {
      "cell_type": "code",
      "execution_count": null,
      "metadata": {
        "colab": {
          "base_uri": "https://localhost:8080/"
        },
        "id": "PU7oj7OI5ZUn",
        "outputId": "95859aff-bd53-4016-f4b4-931bb625fb8e"
      },
      "outputs": [
        {
          "output_type": "stream",
          "name": "stdout",
          "text": [
            "tensor([[296.7000,  24.4000],\n",
            "        [588.9000,  15.4000],\n",
            "        [174.6000,  23.8000],\n",
            "        ...,\n",
            "        [257.7000,  31.2000],\n",
            "        [356.1000,  20.8000],\n",
            "        [653.4000,  20.6000]], dtype=torch.float64)\n"
          ]
        }
      ],
      "source": [
        "#%% computing gradients with respect to a tensor\n",
        "\n",
        "# create tensor using  'weekly_mins_watched', 'minimum_daily_mins' features in dataset\n",
        "x = torch.tensor(df[['weekly_mins_watched', 'minimum_daily_mins']].values, requires_grad=True)\n",
        "\n",
        "# calculate function of x\n",
        "y = x**2 + 3\n",
        "\n",
        "# calculate derivative of y with respect to x\n",
        "y.backward(torch.ones_like(x))\n",
        "\n",
        "# print x derviative values\n",
        "print(x.grad)"
      ]
    },
    {
      "cell_type": "markdown",
      "metadata": {
        "id": "s2ZqFvqhpa56"
      },
      "source": [
        "### Example 2:"
      ]
    },
    {
      "cell_type": "markdown",
      "metadata": {
        "id": "os7DOG4rpFR7"
      },
      "source": [
        "$F(x)$ is a function of $x$  \n",
        "$F(x) = x^2 + 2x + 1$  \n",
        "\n",
        "$H(x)$ is a function of $F(x)$  \n",
        "$H(x) = F^2(x) + 1$\n",
        "\n",
        "$G(x)$ is the gradient of $H(x)$ with respect to $x$  \n",
        "$G(x) = \\frac{dH(x)}{dx} = 4(x + 1)^3$  "
      ]
    },
    {
      "cell_type": "code",
      "execution_count": null,
      "metadata": {
        "colab": {
          "base_uri": "https://localhost:8080/"
        },
        "id": "r4-w9OIYvL7t",
        "outputId": "b918e107-c649-4ef8-d559-1a951355f36d"
      },
      "outputs": [
        {
          "output_type": "stream",
          "name": "stdout",
          "text": [
            "tensor(32.)\n"
          ]
        }
      ],
      "source": [
        "x = torch.tensor(1.0, requires_grad=True)\n",
        "\n",
        "# define functions\n",
        "f = x**2 + 2*x + 1\n",
        "h = f**2 + 1\n",
        "\n",
        "# compute gradients\n",
        "h.backward()\n",
        "\n",
        "# print the gradient value\n",
        "print(x.grad)"
      ]
    },
    {
      "cell_type": "code",
      "execution_count": null,
      "metadata": {
        "id": "YwE_kejj5eP1"
      },
      "outputs": [],
      "source": [
        "# an exhaustive list of tensor features are available at: https://pytorch.org/docs/stable/torch.html"
      ]
    },
    {
      "cell_type": "code",
      "source": [],
      "metadata": {
        "id": "46JV-TuY-Gu5"
      },
      "execution_count": null,
      "outputs": []
    }
  ],
  "metadata": {
    "colab": {
      "provenance": [],
      "gpuType": "T4"
    },
    "kernelspec": {
      "display_name": "Python 3",
      "name": "python3"
    },
    "language_info": {
      "codemirror_mode": {
        "name": "ipython",
        "version": 3
      },
      "file_extension": ".py",
      "mimetype": "text/x-python",
      "name": "python",
      "nbconvert_exporter": "python",
      "pygments_lexer": "ipython3",
      "version": "3.7.9"
    },
    "accelerator": "GPU"
  },
  "nbformat": 4,
  "nbformat_minor": 0
}
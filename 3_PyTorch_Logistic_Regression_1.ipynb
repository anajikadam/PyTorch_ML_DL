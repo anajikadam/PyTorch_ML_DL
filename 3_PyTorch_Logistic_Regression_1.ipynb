{
  "nbformat": 4,
  "nbformat_minor": 0,
  "metadata": {
    "colab": {
      "provenance": []
    },
    "kernelspec": {
      "name": "python3",
      "display_name": "Python 3"
    },
    "language_info": {
      "name": "python"
    }
  },
  "cells": [
    {
      "cell_type": "code",
      "execution_count": 1,
      "metadata": {
        "id": "Qa6aA8iFwoXu"
      },
      "outputs": [],
      "source": [
        "\n",
        "!pip install  numpy -q\n",
        "!pip install  pandas -q\n",
        "!pip install scikit_learn -q\n",
        "# !pip install seaborn -q\n",
        "!pip install torch -q\n",
        "!pip install torchvision -q\n"
      ]
    },
    {
      "cell_type": "code",
      "source": [
        "import pandas as pd\n",
        "import numpy as np\n",
        "import torch\n",
        "import torch.nn as nn\n",
        "import torchvision.transforms as transforms\n",
        "from sklearn.utils import resample\n",
        "from sklearn import preprocessing\n",
        "from sklearn.preprocessing import StandardScaler\n",
        "import seaborn as sns\n",
        "from warnings import filterwarnings\n",
        "filterwarnings('ignore')"
      ],
      "metadata": {
        "id": "HZFfIT3Pwxf4"
      },
      "execution_count": 2,
      "outputs": []
    },
    {
      "cell_type": "code",
      "source": [
        "#reading data\n",
        "df = pd.read_csv(\"/content/data.csv\")"
      ],
      "metadata": {
        "id": "C37SkcpTw3O4"
      },
      "execution_count": 3,
      "outputs": []
    },
    {
      "cell_type": "code",
      "source": [
        "df.head()"
      ],
      "metadata": {
        "colab": {
          "base_uri": "https://localhost:8080/",
          "height": 226
        },
        "id": "bGEcpyh3w3Lx",
        "outputId": "581ad760-f39a-4ce5-8b7f-fe5a6822bf2b"
      },
      "execution_count": 4,
      "outputs": [
        {
          "output_type": "execute_result",
          "data": {
            "text/plain": [
              "   year  customer_id  phone_no  gender  age  no_of_days_subscribed  \\\n",
              "0  2015       100198  409-8743  Female   36                     62   \n",
              "1  2015       100643  340-5930  Female   39                    149   \n",
              "2  2015       100756  372-3750  Female   65                    126   \n",
              "3  2015       101595  331-4902  Female   24                    131   \n",
              "4  2015       101653  351-8398  Female   40                    191   \n",
              "\n",
              "  multi_screen mail_subscribed  weekly_mins_watched  minimum_daily_mins  \\\n",
              "0           no              no               148.35                12.2   \n",
              "1           no              no               294.45                 7.7   \n",
              "2           no              no                87.30                11.9   \n",
              "3           no             yes               321.30                 9.5   \n",
              "4           no              no               243.00                10.9   \n",
              "\n",
              "   maximum_daily_mins  weekly_max_night_mins  videos_watched  \\\n",
              "0               16.81                     82               1   \n",
              "1               33.37                     87               3   \n",
              "2                9.89                     91               1   \n",
              "3               36.41                    102               4   \n",
              "4               27.54                     83               7   \n",
              "\n",
              "   maximum_days_inactive  customer_support_calls  churn  \n",
              "0                    4.0                       1    0.0  \n",
              "1                    3.0                       2    0.0  \n",
              "2                    4.0                       5    1.0  \n",
              "3                    3.0                       3    0.0  \n",
              "4                    3.0                       1    0.0  "
            ],
            "text/html": [
              "\n",
              "  <div id=\"df-befbd4fa-f5f8-4424-8347-62bc66685d3d\" class=\"colab-df-container\">\n",
              "    <div>\n",
              "<style scoped>\n",
              "    .dataframe tbody tr th:only-of-type {\n",
              "        vertical-align: middle;\n",
              "    }\n",
              "\n",
              "    .dataframe tbody tr th {\n",
              "        vertical-align: top;\n",
              "    }\n",
              "\n",
              "    .dataframe thead th {\n",
              "        text-align: right;\n",
              "    }\n",
              "</style>\n",
              "<table border=\"1\" class=\"dataframe\">\n",
              "  <thead>\n",
              "    <tr style=\"text-align: right;\">\n",
              "      <th></th>\n",
              "      <th>year</th>\n",
              "      <th>customer_id</th>\n",
              "      <th>phone_no</th>\n",
              "      <th>gender</th>\n",
              "      <th>age</th>\n",
              "      <th>no_of_days_subscribed</th>\n",
              "      <th>multi_screen</th>\n",
              "      <th>mail_subscribed</th>\n",
              "      <th>weekly_mins_watched</th>\n",
              "      <th>minimum_daily_mins</th>\n",
              "      <th>maximum_daily_mins</th>\n",
              "      <th>weekly_max_night_mins</th>\n",
              "      <th>videos_watched</th>\n",
              "      <th>maximum_days_inactive</th>\n",
              "      <th>customer_support_calls</th>\n",
              "      <th>churn</th>\n",
              "    </tr>\n",
              "  </thead>\n",
              "  <tbody>\n",
              "    <tr>\n",
              "      <th>0</th>\n",
              "      <td>2015</td>\n",
              "      <td>100198</td>\n",
              "      <td>409-8743</td>\n",
              "      <td>Female</td>\n",
              "      <td>36</td>\n",
              "      <td>62</td>\n",
              "      <td>no</td>\n",
              "      <td>no</td>\n",
              "      <td>148.35</td>\n",
              "      <td>12.2</td>\n",
              "      <td>16.81</td>\n",
              "      <td>82</td>\n",
              "      <td>1</td>\n",
              "      <td>4.0</td>\n",
              "      <td>1</td>\n",
              "      <td>0.0</td>\n",
              "    </tr>\n",
              "    <tr>\n",
              "      <th>1</th>\n",
              "      <td>2015</td>\n",
              "      <td>100643</td>\n",
              "      <td>340-5930</td>\n",
              "      <td>Female</td>\n",
              "      <td>39</td>\n",
              "      <td>149</td>\n",
              "      <td>no</td>\n",
              "      <td>no</td>\n",
              "      <td>294.45</td>\n",
              "      <td>7.7</td>\n",
              "      <td>33.37</td>\n",
              "      <td>87</td>\n",
              "      <td>3</td>\n",
              "      <td>3.0</td>\n",
              "      <td>2</td>\n",
              "      <td>0.0</td>\n",
              "    </tr>\n",
              "    <tr>\n",
              "      <th>2</th>\n",
              "      <td>2015</td>\n",
              "      <td>100756</td>\n",
              "      <td>372-3750</td>\n",
              "      <td>Female</td>\n",
              "      <td>65</td>\n",
              "      <td>126</td>\n",
              "      <td>no</td>\n",
              "      <td>no</td>\n",
              "      <td>87.30</td>\n",
              "      <td>11.9</td>\n",
              "      <td>9.89</td>\n",
              "      <td>91</td>\n",
              "      <td>1</td>\n",
              "      <td>4.0</td>\n",
              "      <td>5</td>\n",
              "      <td>1.0</td>\n",
              "    </tr>\n",
              "    <tr>\n",
              "      <th>3</th>\n",
              "      <td>2015</td>\n",
              "      <td>101595</td>\n",
              "      <td>331-4902</td>\n",
              "      <td>Female</td>\n",
              "      <td>24</td>\n",
              "      <td>131</td>\n",
              "      <td>no</td>\n",
              "      <td>yes</td>\n",
              "      <td>321.30</td>\n",
              "      <td>9.5</td>\n",
              "      <td>36.41</td>\n",
              "      <td>102</td>\n",
              "      <td>4</td>\n",
              "      <td>3.0</td>\n",
              "      <td>3</td>\n",
              "      <td>0.0</td>\n",
              "    </tr>\n",
              "    <tr>\n",
              "      <th>4</th>\n",
              "      <td>2015</td>\n",
              "      <td>101653</td>\n",
              "      <td>351-8398</td>\n",
              "      <td>Female</td>\n",
              "      <td>40</td>\n",
              "      <td>191</td>\n",
              "      <td>no</td>\n",
              "      <td>no</td>\n",
              "      <td>243.00</td>\n",
              "      <td>10.9</td>\n",
              "      <td>27.54</td>\n",
              "      <td>83</td>\n",
              "      <td>7</td>\n",
              "      <td>3.0</td>\n",
              "      <td>1</td>\n",
              "      <td>0.0</td>\n",
              "    </tr>\n",
              "  </tbody>\n",
              "</table>\n",
              "</div>\n",
              "    <div class=\"colab-df-buttons\">\n",
              "\n",
              "  <div class=\"colab-df-container\">\n",
              "    <button class=\"colab-df-convert\" onclick=\"convertToInteractive('df-befbd4fa-f5f8-4424-8347-62bc66685d3d')\"\n",
              "            title=\"Convert this dataframe to an interactive table.\"\n",
              "            style=\"display:none;\">\n",
              "\n",
              "  <svg xmlns=\"http://www.w3.org/2000/svg\" height=\"24px\" viewBox=\"0 -960 960 960\">\n",
              "    <path d=\"M120-120v-720h720v720H120Zm60-500h600v-160H180v160Zm220 220h160v-160H400v160Zm0 220h160v-160H400v160ZM180-400h160v-160H180v160Zm440 0h160v-160H620v160ZM180-180h160v-160H180v160Zm440 0h160v-160H620v160Z\"/>\n",
              "  </svg>\n",
              "    </button>\n",
              "\n",
              "  <style>\n",
              "    .colab-df-container {\n",
              "      display:flex;\n",
              "      gap: 12px;\n",
              "    }\n",
              "\n",
              "    .colab-df-convert {\n",
              "      background-color: #E8F0FE;\n",
              "      border: none;\n",
              "      border-radius: 50%;\n",
              "      cursor: pointer;\n",
              "      display: none;\n",
              "      fill: #1967D2;\n",
              "      height: 32px;\n",
              "      padding: 0 0 0 0;\n",
              "      width: 32px;\n",
              "    }\n",
              "\n",
              "    .colab-df-convert:hover {\n",
              "      background-color: #E2EBFA;\n",
              "      box-shadow: 0px 1px 2px rgba(60, 64, 67, 0.3), 0px 1px 3px 1px rgba(60, 64, 67, 0.15);\n",
              "      fill: #174EA6;\n",
              "    }\n",
              "\n",
              "    .colab-df-buttons div {\n",
              "      margin-bottom: 4px;\n",
              "    }\n",
              "\n",
              "    [theme=dark] .colab-df-convert {\n",
              "      background-color: #3B4455;\n",
              "      fill: #D2E3FC;\n",
              "    }\n",
              "\n",
              "    [theme=dark] .colab-df-convert:hover {\n",
              "      background-color: #434B5C;\n",
              "      box-shadow: 0px 1px 3px 1px rgba(0, 0, 0, 0.15);\n",
              "      filter: drop-shadow(0px 1px 2px rgba(0, 0, 0, 0.3));\n",
              "      fill: #FFFFFF;\n",
              "    }\n",
              "  </style>\n",
              "\n",
              "    <script>\n",
              "      const buttonEl =\n",
              "        document.querySelector('#df-befbd4fa-f5f8-4424-8347-62bc66685d3d button.colab-df-convert');\n",
              "      buttonEl.style.display =\n",
              "        google.colab.kernel.accessAllowed ? 'block' : 'none';\n",
              "\n",
              "      async function convertToInteractive(key) {\n",
              "        const element = document.querySelector('#df-befbd4fa-f5f8-4424-8347-62bc66685d3d');\n",
              "        const dataTable =\n",
              "          await google.colab.kernel.invokeFunction('convertToInteractive',\n",
              "                                                    [key], {});\n",
              "        if (!dataTable) return;\n",
              "\n",
              "        const docLinkHtml = 'Like what you see? Visit the ' +\n",
              "          '<a target=\"_blank\" href=https://colab.research.google.com/notebooks/data_table.ipynb>data table notebook</a>'\n",
              "          + ' to learn more about interactive tables.';\n",
              "        element.innerHTML = '';\n",
              "        dataTable['output_type'] = 'display_data';\n",
              "        await google.colab.output.renderOutput(dataTable, element);\n",
              "        const docLink = document.createElement('div');\n",
              "        docLink.innerHTML = docLinkHtml;\n",
              "        element.appendChild(docLink);\n",
              "      }\n",
              "    </script>\n",
              "  </div>\n",
              "\n",
              "\n",
              "<div id=\"df-14834a6e-8935-4077-9cd5-c10bc3e1956f\">\n",
              "  <button class=\"colab-df-quickchart\" onclick=\"quickchart('df-14834a6e-8935-4077-9cd5-c10bc3e1956f')\"\n",
              "            title=\"Suggest charts\"\n",
              "            style=\"display:none;\">\n",
              "\n",
              "<svg xmlns=\"http://www.w3.org/2000/svg\" height=\"24px\"viewBox=\"0 0 24 24\"\n",
              "     width=\"24px\">\n",
              "    <g>\n",
              "        <path d=\"M19 3H5c-1.1 0-2 .9-2 2v14c0 1.1.9 2 2 2h14c1.1 0 2-.9 2-2V5c0-1.1-.9-2-2-2zM9 17H7v-7h2v7zm4 0h-2V7h2v10zm4 0h-2v-4h2v4z\"/>\n",
              "    </g>\n",
              "</svg>\n",
              "  </button>\n",
              "\n",
              "<style>\n",
              "  .colab-df-quickchart {\n",
              "      --bg-color: #E8F0FE;\n",
              "      --fill-color: #1967D2;\n",
              "      --hover-bg-color: #E2EBFA;\n",
              "      --hover-fill-color: #174EA6;\n",
              "      --disabled-fill-color: #AAA;\n",
              "      --disabled-bg-color: #DDD;\n",
              "  }\n",
              "\n",
              "  [theme=dark] .colab-df-quickchart {\n",
              "      --bg-color: #3B4455;\n",
              "      --fill-color: #D2E3FC;\n",
              "      --hover-bg-color: #434B5C;\n",
              "      --hover-fill-color: #FFFFFF;\n",
              "      --disabled-bg-color: #3B4455;\n",
              "      --disabled-fill-color: #666;\n",
              "  }\n",
              "\n",
              "  .colab-df-quickchart {\n",
              "    background-color: var(--bg-color);\n",
              "    border: none;\n",
              "    border-radius: 50%;\n",
              "    cursor: pointer;\n",
              "    display: none;\n",
              "    fill: var(--fill-color);\n",
              "    height: 32px;\n",
              "    padding: 0;\n",
              "    width: 32px;\n",
              "  }\n",
              "\n",
              "  .colab-df-quickchart:hover {\n",
              "    background-color: var(--hover-bg-color);\n",
              "    box-shadow: 0 1px 2px rgba(60, 64, 67, 0.3), 0 1px 3px 1px rgba(60, 64, 67, 0.15);\n",
              "    fill: var(--button-hover-fill-color);\n",
              "  }\n",
              "\n",
              "  .colab-df-quickchart-complete:disabled,\n",
              "  .colab-df-quickchart-complete:disabled:hover {\n",
              "    background-color: var(--disabled-bg-color);\n",
              "    fill: var(--disabled-fill-color);\n",
              "    box-shadow: none;\n",
              "  }\n",
              "\n",
              "  .colab-df-spinner {\n",
              "    border: 2px solid var(--fill-color);\n",
              "    border-color: transparent;\n",
              "    border-bottom-color: var(--fill-color);\n",
              "    animation:\n",
              "      spin 1s steps(1) infinite;\n",
              "  }\n",
              "\n",
              "  @keyframes spin {\n",
              "    0% {\n",
              "      border-color: transparent;\n",
              "      border-bottom-color: var(--fill-color);\n",
              "      border-left-color: var(--fill-color);\n",
              "    }\n",
              "    20% {\n",
              "      border-color: transparent;\n",
              "      border-left-color: var(--fill-color);\n",
              "      border-top-color: var(--fill-color);\n",
              "    }\n",
              "    30% {\n",
              "      border-color: transparent;\n",
              "      border-left-color: var(--fill-color);\n",
              "      border-top-color: var(--fill-color);\n",
              "      border-right-color: var(--fill-color);\n",
              "    }\n",
              "    40% {\n",
              "      border-color: transparent;\n",
              "      border-right-color: var(--fill-color);\n",
              "      border-top-color: var(--fill-color);\n",
              "    }\n",
              "    60% {\n",
              "      border-color: transparent;\n",
              "      border-right-color: var(--fill-color);\n",
              "    }\n",
              "    80% {\n",
              "      border-color: transparent;\n",
              "      border-right-color: var(--fill-color);\n",
              "      border-bottom-color: var(--fill-color);\n",
              "    }\n",
              "    90% {\n",
              "      border-color: transparent;\n",
              "      border-bottom-color: var(--fill-color);\n",
              "    }\n",
              "  }\n",
              "</style>\n",
              "\n",
              "  <script>\n",
              "    async function quickchart(key) {\n",
              "      const quickchartButtonEl =\n",
              "        document.querySelector('#' + key + ' button');\n",
              "      quickchartButtonEl.disabled = true;  // To prevent multiple clicks.\n",
              "      quickchartButtonEl.classList.add('colab-df-spinner');\n",
              "      try {\n",
              "        const charts = await google.colab.kernel.invokeFunction(\n",
              "            'suggestCharts', [key], {});\n",
              "      } catch (error) {\n",
              "        console.error('Error during call to suggestCharts:', error);\n",
              "      }\n",
              "      quickchartButtonEl.classList.remove('colab-df-spinner');\n",
              "      quickchartButtonEl.classList.add('colab-df-quickchart-complete');\n",
              "    }\n",
              "    (() => {\n",
              "      let quickchartButtonEl =\n",
              "        document.querySelector('#df-14834a6e-8935-4077-9cd5-c10bc3e1956f button');\n",
              "      quickchartButtonEl.style.display =\n",
              "        google.colab.kernel.accessAllowed ? 'block' : 'none';\n",
              "    })();\n",
              "  </script>\n",
              "</div>\n",
              "\n",
              "    </div>\n",
              "  </div>\n"
            ]
          },
          "metadata": {},
          "execution_count": 4
        }
      ]
    },
    {
      "cell_type": "code",
      "source": [
        "df = df.drop([\"year\", \"customer_id\", \"phone_no\"], axis=1)"
      ],
      "metadata": {
        "id": "l4FYCWMGw3JK"
      },
      "execution_count": 5,
      "outputs": []
    },
    {
      "cell_type": "code",
      "source": [
        "print(df.shape)\n",
        "print(df.columns)\n",
        "df.dtypes"
      ],
      "metadata": {
        "colab": {
          "base_uri": "https://localhost:8080/"
        },
        "id": "VqdGoV0aw3GC",
        "outputId": "b55fce06-a873-4712-ec7d-a1f03d610bd9"
      },
      "execution_count": 6,
      "outputs": [
        {
          "output_type": "stream",
          "name": "stdout",
          "text": [
            "(2000, 13)\n",
            "Index(['gender', 'age', 'no_of_days_subscribed', 'multi_screen',\n",
            "       'mail_subscribed', 'weekly_mins_watched', 'minimum_daily_mins',\n",
            "       'maximum_daily_mins', 'weekly_max_night_mins', 'videos_watched',\n",
            "       'maximum_days_inactive', 'customer_support_calls', 'churn'],\n",
            "      dtype='object')\n"
          ]
        },
        {
          "output_type": "execute_result",
          "data": {
            "text/plain": [
              "gender                     object\n",
              "age                         int64\n",
              "no_of_days_subscribed       int64\n",
              "multi_screen               object\n",
              "mail_subscribed            object\n",
              "weekly_mins_watched       float64\n",
              "minimum_daily_mins        float64\n",
              "maximum_daily_mins        float64\n",
              "weekly_max_night_mins       int64\n",
              "videos_watched              int64\n",
              "maximum_days_inactive     float64\n",
              "customer_support_calls      int64\n",
              "churn                     float64\n",
              "dtype: object"
            ]
          },
          "metadata": {},
          "execution_count": 6
        }
      ]
    },
    {
      "cell_type": "code",
      "source": [
        "final_data = df.dropna()\n",
        "final_data.shape"
      ],
      "metadata": {
        "colab": {
          "base_uri": "https://localhost:8080/"
        },
        "id": "aAzAPv-Mw3Aa",
        "outputId": "e4841f5e-38bc-4824-be69-6b4865f43d06"
      },
      "execution_count": 7,
      "outputs": [
        {
          "output_type": "execute_result",
          "data": {
            "text/plain": [
              "(1918, 13)"
            ]
          },
          "metadata": {},
          "execution_count": 7
        }
      ]
    },
    {
      "cell_type": "code",
      "source": [
        "final_data.isnull().sum()"
      ],
      "metadata": {
        "colab": {
          "base_uri": "https://localhost:8080/"
        },
        "id": "d5ILzOIHw26y",
        "outputId": "38e21b46-7584-4ead-9313-f73e9e53d0ad"
      },
      "execution_count": 8,
      "outputs": [
        {
          "output_type": "execute_result",
          "data": {
            "text/plain": [
              "gender                    0\n",
              "age                       0\n",
              "no_of_days_subscribed     0\n",
              "multi_screen              0\n",
              "mail_subscribed           0\n",
              "weekly_mins_watched       0\n",
              "minimum_daily_mins        0\n",
              "maximum_daily_mins        0\n",
              "weekly_max_night_mins     0\n",
              "videos_watched            0\n",
              "maximum_days_inactive     0\n",
              "customer_support_calls    0\n",
              "churn                     0\n",
              "dtype: int64"
            ]
          },
          "metadata": {},
          "execution_count": 8
        }
      ]
    },
    {
      "cell_type": "code",
      "source": [
        "final_data[\"churn\"].value_counts()"
      ],
      "metadata": {
        "colab": {
          "base_uri": "https://localhost:8080/"
        },
        "id": "4GTqBvCXw23w",
        "outputId": "cfb46c0f-9160-4130-8c2a-608be6da9b93"
      },
      "execution_count": 9,
      "outputs": [
        {
          "output_type": "execute_result",
          "data": {
            "text/plain": [
              "0.0    1665\n",
              "1.0     253\n",
              "Name: churn, dtype: int64"
            ]
          },
          "metadata": {},
          "execution_count": 9
        }
      ]
    },
    {
      "cell_type": "code",
      "source": [
        "df_majority = final_data[final_data['churn']==0] #class 0\n",
        "df_minority = final_data[final_data['churn']==1] #class 1"
      ],
      "metadata": {
        "id": "-S7Ceyfmw2tx"
      },
      "execution_count": 10,
      "outputs": []
    },
    {
      "cell_type": "code",
      "source": [
        "df_minority_upsampled = resample(df_minority, replace=True, n_samples=900, random_state=123) #upsampling minority class\n",
        "df_majority_downsampled = resample(df_majority, replace=False, n_samples=900, random_state=123) #downsampling majority class"
      ],
      "metadata": {
        "id": "H63SC_DCw2rR"
      },
      "execution_count": 11,
      "outputs": []
    },
    {
      "cell_type": "code",
      "source": [
        "df_minority_upsampled.shape, df_majority_downsampled.shape"
      ],
      "metadata": {
        "colab": {
          "base_uri": "https://localhost:8080/"
        },
        "id": "PBGZSwgPw2od",
        "outputId": "971e004e-2ed1-4413-8be7-f235df34c6d9"
      },
      "execution_count": 12,
      "outputs": [
        {
          "output_type": "execute_result",
          "data": {
            "text/plain": [
              "((900, 13), (900, 13))"
            ]
          },
          "metadata": {},
          "execution_count": 12
        }
      ]
    },
    {
      "cell_type": "code",
      "source": [
        "#concanating both upsampled and downsampled class\n",
        "df2 = pd.concat([df_majority_downsampled, df_minority_upsampled])"
      ],
      "metadata": {
        "id": "B709uIAVw2mF"
      },
      "execution_count": 13,
      "outputs": []
    },
    {
      "cell_type": "code",
      "source": [
        "df2[\"churn\"].value_counts()"
      ],
      "metadata": {
        "colab": {
          "base_uri": "https://localhost:8080/"
        },
        "id": "IAa0DHVtw2jJ",
        "outputId": "7204bf3d-29ea-47a5-be61-cd5a4b0ce9df"
      },
      "execution_count": 14,
      "outputs": [
        {
          "output_type": "execute_result",
          "data": {
            "text/plain": [
              "0.0    900\n",
              "1.0    900\n",
              "Name: churn, dtype: int64"
            ]
          },
          "metadata": {},
          "execution_count": 14
        }
      ]
    },
    {
      "cell_type": "code",
      "source": [
        "df2[['gender', 'multi_screen', 'mail_subscribed']].sample(2)"
      ],
      "metadata": {
        "colab": {
          "base_uri": "https://localhost:8080/",
          "height": 112
        },
        "id": "w8K-BFzHx5pS",
        "outputId": "18817f59-3ab3-4b11-f9af-9952f0b97ca1"
      },
      "execution_count": 15,
      "outputs": [
        {
          "output_type": "execute_result",
          "data": {
            "text/plain": [
              "     gender multi_screen mail_subscribed\n",
              "827    Male           no              no\n",
              "1701   Male           no              no"
            ],
            "text/html": [
              "\n",
              "  <div id=\"df-7f28ae4a-a377-425c-82f5-4b1abb26cbc5\" class=\"colab-df-container\">\n",
              "    <div>\n",
              "<style scoped>\n",
              "    .dataframe tbody tr th:only-of-type {\n",
              "        vertical-align: middle;\n",
              "    }\n",
              "\n",
              "    .dataframe tbody tr th {\n",
              "        vertical-align: top;\n",
              "    }\n",
              "\n",
              "    .dataframe thead th {\n",
              "        text-align: right;\n",
              "    }\n",
              "</style>\n",
              "<table border=\"1\" class=\"dataframe\">\n",
              "  <thead>\n",
              "    <tr style=\"text-align: right;\">\n",
              "      <th></th>\n",
              "      <th>gender</th>\n",
              "      <th>multi_screen</th>\n",
              "      <th>mail_subscribed</th>\n",
              "    </tr>\n",
              "  </thead>\n",
              "  <tbody>\n",
              "    <tr>\n",
              "      <th>827</th>\n",
              "      <td>Male</td>\n",
              "      <td>no</td>\n",
              "      <td>no</td>\n",
              "    </tr>\n",
              "    <tr>\n",
              "      <th>1701</th>\n",
              "      <td>Male</td>\n",
              "      <td>no</td>\n",
              "      <td>no</td>\n",
              "    </tr>\n",
              "  </tbody>\n",
              "</table>\n",
              "</div>\n",
              "    <div class=\"colab-df-buttons\">\n",
              "\n",
              "  <div class=\"colab-df-container\">\n",
              "    <button class=\"colab-df-convert\" onclick=\"convertToInteractive('df-7f28ae4a-a377-425c-82f5-4b1abb26cbc5')\"\n",
              "            title=\"Convert this dataframe to an interactive table.\"\n",
              "            style=\"display:none;\">\n",
              "\n",
              "  <svg xmlns=\"http://www.w3.org/2000/svg\" height=\"24px\" viewBox=\"0 -960 960 960\">\n",
              "    <path d=\"M120-120v-720h720v720H120Zm60-500h600v-160H180v160Zm220 220h160v-160H400v160Zm0 220h160v-160H400v160ZM180-400h160v-160H180v160Zm440 0h160v-160H620v160ZM180-180h160v-160H180v160Zm440 0h160v-160H620v160Z\"/>\n",
              "  </svg>\n",
              "    </button>\n",
              "\n",
              "  <style>\n",
              "    .colab-df-container {\n",
              "      display:flex;\n",
              "      gap: 12px;\n",
              "    }\n",
              "\n",
              "    .colab-df-convert {\n",
              "      background-color: #E8F0FE;\n",
              "      border: none;\n",
              "      border-radius: 50%;\n",
              "      cursor: pointer;\n",
              "      display: none;\n",
              "      fill: #1967D2;\n",
              "      height: 32px;\n",
              "      padding: 0 0 0 0;\n",
              "      width: 32px;\n",
              "    }\n",
              "\n",
              "    .colab-df-convert:hover {\n",
              "      background-color: #E2EBFA;\n",
              "      box-shadow: 0px 1px 2px rgba(60, 64, 67, 0.3), 0px 1px 3px 1px rgba(60, 64, 67, 0.15);\n",
              "      fill: #174EA6;\n",
              "    }\n",
              "\n",
              "    .colab-df-buttons div {\n",
              "      margin-bottom: 4px;\n",
              "    }\n",
              "\n",
              "    [theme=dark] .colab-df-convert {\n",
              "      background-color: #3B4455;\n",
              "      fill: #D2E3FC;\n",
              "    }\n",
              "\n",
              "    [theme=dark] .colab-df-convert:hover {\n",
              "      background-color: #434B5C;\n",
              "      box-shadow: 0px 1px 3px 1px rgba(0, 0, 0, 0.15);\n",
              "      filter: drop-shadow(0px 1px 2px rgba(0, 0, 0, 0.3));\n",
              "      fill: #FFFFFF;\n",
              "    }\n",
              "  </style>\n",
              "\n",
              "    <script>\n",
              "      const buttonEl =\n",
              "        document.querySelector('#df-7f28ae4a-a377-425c-82f5-4b1abb26cbc5 button.colab-df-convert');\n",
              "      buttonEl.style.display =\n",
              "        google.colab.kernel.accessAllowed ? 'block' : 'none';\n",
              "\n",
              "      async function convertToInteractive(key) {\n",
              "        const element = document.querySelector('#df-7f28ae4a-a377-425c-82f5-4b1abb26cbc5');\n",
              "        const dataTable =\n",
              "          await google.colab.kernel.invokeFunction('convertToInteractive',\n",
              "                                                    [key], {});\n",
              "        if (!dataTable) return;\n",
              "\n",
              "        const docLinkHtml = 'Like what you see? Visit the ' +\n",
              "          '<a target=\"_blank\" href=https://colab.research.google.com/notebooks/data_table.ipynb>data table notebook</a>'\n",
              "          + ' to learn more about interactive tables.';\n",
              "        element.innerHTML = '';\n",
              "        dataTable['output_type'] = 'display_data';\n",
              "        await google.colab.output.renderOutput(dataTable, element);\n",
              "        const docLink = document.createElement('div');\n",
              "        docLink.innerHTML = docLinkHtml;\n",
              "        element.appendChild(docLink);\n",
              "      }\n",
              "    </script>\n",
              "  </div>\n",
              "\n",
              "\n",
              "<div id=\"df-1e99a6fd-5e72-4190-b7e2-b107bcc4b55c\">\n",
              "  <button class=\"colab-df-quickchart\" onclick=\"quickchart('df-1e99a6fd-5e72-4190-b7e2-b107bcc4b55c')\"\n",
              "            title=\"Suggest charts\"\n",
              "            style=\"display:none;\">\n",
              "\n",
              "<svg xmlns=\"http://www.w3.org/2000/svg\" height=\"24px\"viewBox=\"0 0 24 24\"\n",
              "     width=\"24px\">\n",
              "    <g>\n",
              "        <path d=\"M19 3H5c-1.1 0-2 .9-2 2v14c0 1.1.9 2 2 2h14c1.1 0 2-.9 2-2V5c0-1.1-.9-2-2-2zM9 17H7v-7h2v7zm4 0h-2V7h2v10zm4 0h-2v-4h2v4z\"/>\n",
              "    </g>\n",
              "</svg>\n",
              "  </button>\n",
              "\n",
              "<style>\n",
              "  .colab-df-quickchart {\n",
              "      --bg-color: #E8F0FE;\n",
              "      --fill-color: #1967D2;\n",
              "      --hover-bg-color: #E2EBFA;\n",
              "      --hover-fill-color: #174EA6;\n",
              "      --disabled-fill-color: #AAA;\n",
              "      --disabled-bg-color: #DDD;\n",
              "  }\n",
              "\n",
              "  [theme=dark] .colab-df-quickchart {\n",
              "      --bg-color: #3B4455;\n",
              "      --fill-color: #D2E3FC;\n",
              "      --hover-bg-color: #434B5C;\n",
              "      --hover-fill-color: #FFFFFF;\n",
              "      --disabled-bg-color: #3B4455;\n",
              "      --disabled-fill-color: #666;\n",
              "  }\n",
              "\n",
              "  .colab-df-quickchart {\n",
              "    background-color: var(--bg-color);\n",
              "    border: none;\n",
              "    border-radius: 50%;\n",
              "    cursor: pointer;\n",
              "    display: none;\n",
              "    fill: var(--fill-color);\n",
              "    height: 32px;\n",
              "    padding: 0;\n",
              "    width: 32px;\n",
              "  }\n",
              "\n",
              "  .colab-df-quickchart:hover {\n",
              "    background-color: var(--hover-bg-color);\n",
              "    box-shadow: 0 1px 2px rgba(60, 64, 67, 0.3), 0 1px 3px 1px rgba(60, 64, 67, 0.15);\n",
              "    fill: var(--button-hover-fill-color);\n",
              "  }\n",
              "\n",
              "  .colab-df-quickchart-complete:disabled,\n",
              "  .colab-df-quickchart-complete:disabled:hover {\n",
              "    background-color: var(--disabled-bg-color);\n",
              "    fill: var(--disabled-fill-color);\n",
              "    box-shadow: none;\n",
              "  }\n",
              "\n",
              "  .colab-df-spinner {\n",
              "    border: 2px solid var(--fill-color);\n",
              "    border-color: transparent;\n",
              "    border-bottom-color: var(--fill-color);\n",
              "    animation:\n",
              "      spin 1s steps(1) infinite;\n",
              "  }\n",
              "\n",
              "  @keyframes spin {\n",
              "    0% {\n",
              "      border-color: transparent;\n",
              "      border-bottom-color: var(--fill-color);\n",
              "      border-left-color: var(--fill-color);\n",
              "    }\n",
              "    20% {\n",
              "      border-color: transparent;\n",
              "      border-left-color: var(--fill-color);\n",
              "      border-top-color: var(--fill-color);\n",
              "    }\n",
              "    30% {\n",
              "      border-color: transparent;\n",
              "      border-left-color: var(--fill-color);\n",
              "      border-top-color: var(--fill-color);\n",
              "      border-right-color: var(--fill-color);\n",
              "    }\n",
              "    40% {\n",
              "      border-color: transparent;\n",
              "      border-right-color: var(--fill-color);\n",
              "      border-top-color: var(--fill-color);\n",
              "    }\n",
              "    60% {\n",
              "      border-color: transparent;\n",
              "      border-right-color: var(--fill-color);\n",
              "    }\n",
              "    80% {\n",
              "      border-color: transparent;\n",
              "      border-right-color: var(--fill-color);\n",
              "      border-bottom-color: var(--fill-color);\n",
              "    }\n",
              "    90% {\n",
              "      border-color: transparent;\n",
              "      border-bottom-color: var(--fill-color);\n",
              "    }\n",
              "  }\n",
              "</style>\n",
              "\n",
              "  <script>\n",
              "    async function quickchart(key) {\n",
              "      const quickchartButtonEl =\n",
              "        document.querySelector('#' + key + ' button');\n",
              "      quickchartButtonEl.disabled = true;  // To prevent multiple clicks.\n",
              "      quickchartButtonEl.classList.add('colab-df-spinner');\n",
              "      try {\n",
              "        const charts = await google.colab.kernel.invokeFunction(\n",
              "            'suggestCharts', [key], {});\n",
              "      } catch (error) {\n",
              "        console.error('Error during call to suggestCharts:', error);\n",
              "      }\n",
              "      quickchartButtonEl.classList.remove('colab-df-spinner');\n",
              "      quickchartButtonEl.classList.add('colab-df-quickchart-complete');\n",
              "    }\n",
              "    (() => {\n",
              "      let quickchartButtonEl =\n",
              "        document.querySelector('#df-1e99a6fd-5e72-4190-b7e2-b107bcc4b55c button');\n",
              "      quickchartButtonEl.style.display =\n",
              "        google.colab.kernel.accessAllowed ? 'block' : 'none';\n",
              "    })();\n",
              "  </script>\n",
              "</div>\n",
              "\n",
              "    </div>\n",
              "  </div>\n"
            ]
          },
          "metadata": {},
          "execution_count": 15
        }
      ]
    },
    {
      "cell_type": "code",
      "source": [
        "#label encoding categorical variables\n",
        "label_encoder = preprocessing.LabelEncoder()\n",
        "df2['gender']= label_encoder.fit_transform(df2['gender'])\n",
        "df2['multi_screen']= label_encoder.fit_transform(df2['multi_screen'])\n",
        "df2['mail_subscribed']= label_encoder.fit_transform(df2['mail_subscribed'])"
      ],
      "metadata": {
        "id": "VGV-ExR_w2g3"
      },
      "execution_count": 16,
      "outputs": []
    },
    {
      "cell_type": "code",
      "source": [
        "df2.head()"
      ],
      "metadata": {
        "colab": {
          "base_uri": "https://localhost:8080/",
          "height": 226
        },
        "id": "WgCXv5qzw2d8",
        "outputId": "6bdf3e52-a695-4ffe-fcf0-07308ac723e1"
      },
      "execution_count": 17,
      "outputs": [
        {
          "output_type": "execute_result",
          "data": {
            "text/plain": [
              "      gender  age  no_of_days_subscribed  multi_screen  mail_subscribed  \\\n",
              "1813       1   35                    148             1                0   \n",
              "1362       1   42                     98             0                0   \n",
              "389        0   39                     56             0                0   \n",
              "1203       1   42                     37             0                0   \n",
              "1710       1   44                     63             0                0   \n",
              "\n",
              "      weekly_mins_watched  minimum_daily_mins  maximum_daily_mins  \\\n",
              "1813               222.30                 8.6               25.19   \n",
              "1362               241.50                12.1               27.37   \n",
              "389                379.80                 4.4               43.04   \n",
              "1203               350.55                12.0               39.73   \n",
              "1710               246.75                11.2               27.97   \n",
              "\n",
              "      weekly_max_night_mins  videos_watched  maximum_days_inactive  \\\n",
              "1813                     62               3                    3.0   \n",
              "1362                    113               4                    4.0   \n",
              "389                     133               4                    2.0   \n",
              "1203                    101               2                    4.0   \n",
              "1710                     97               2                    4.0   \n",
              "\n",
              "      customer_support_calls  churn  \n",
              "1813                       2    0.0  \n",
              "1362                       4    0.0  \n",
              "389                        1    0.0  \n",
              "1203                       2    0.0  \n",
              "1710                       0    0.0  "
            ],
            "text/html": [
              "\n",
              "  <div id=\"df-df798575-4256-44d9-a29b-a47e8e1d8831\" class=\"colab-df-container\">\n",
              "    <div>\n",
              "<style scoped>\n",
              "    .dataframe tbody tr th:only-of-type {\n",
              "        vertical-align: middle;\n",
              "    }\n",
              "\n",
              "    .dataframe tbody tr th {\n",
              "        vertical-align: top;\n",
              "    }\n",
              "\n",
              "    .dataframe thead th {\n",
              "        text-align: right;\n",
              "    }\n",
              "</style>\n",
              "<table border=\"1\" class=\"dataframe\">\n",
              "  <thead>\n",
              "    <tr style=\"text-align: right;\">\n",
              "      <th></th>\n",
              "      <th>gender</th>\n",
              "      <th>age</th>\n",
              "      <th>no_of_days_subscribed</th>\n",
              "      <th>multi_screen</th>\n",
              "      <th>mail_subscribed</th>\n",
              "      <th>weekly_mins_watched</th>\n",
              "      <th>minimum_daily_mins</th>\n",
              "      <th>maximum_daily_mins</th>\n",
              "      <th>weekly_max_night_mins</th>\n",
              "      <th>videos_watched</th>\n",
              "      <th>maximum_days_inactive</th>\n",
              "      <th>customer_support_calls</th>\n",
              "      <th>churn</th>\n",
              "    </tr>\n",
              "  </thead>\n",
              "  <tbody>\n",
              "    <tr>\n",
              "      <th>1813</th>\n",
              "      <td>1</td>\n",
              "      <td>35</td>\n",
              "      <td>148</td>\n",
              "      <td>1</td>\n",
              "      <td>0</td>\n",
              "      <td>222.30</td>\n",
              "      <td>8.6</td>\n",
              "      <td>25.19</td>\n",
              "      <td>62</td>\n",
              "      <td>3</td>\n",
              "      <td>3.0</td>\n",
              "      <td>2</td>\n",
              "      <td>0.0</td>\n",
              "    </tr>\n",
              "    <tr>\n",
              "      <th>1362</th>\n",
              "      <td>1</td>\n",
              "      <td>42</td>\n",
              "      <td>98</td>\n",
              "      <td>0</td>\n",
              "      <td>0</td>\n",
              "      <td>241.50</td>\n",
              "      <td>12.1</td>\n",
              "      <td>27.37</td>\n",
              "      <td>113</td>\n",
              "      <td>4</td>\n",
              "      <td>4.0</td>\n",
              "      <td>4</td>\n",
              "      <td>0.0</td>\n",
              "    </tr>\n",
              "    <tr>\n",
              "      <th>389</th>\n",
              "      <td>0</td>\n",
              "      <td>39</td>\n",
              "      <td>56</td>\n",
              "      <td>0</td>\n",
              "      <td>0</td>\n",
              "      <td>379.80</td>\n",
              "      <td>4.4</td>\n",
              "      <td>43.04</td>\n",
              "      <td>133</td>\n",
              "      <td>4</td>\n",
              "      <td>2.0</td>\n",
              "      <td>1</td>\n",
              "      <td>0.0</td>\n",
              "    </tr>\n",
              "    <tr>\n",
              "      <th>1203</th>\n",
              "      <td>1</td>\n",
              "      <td>42</td>\n",
              "      <td>37</td>\n",
              "      <td>0</td>\n",
              "      <td>0</td>\n",
              "      <td>350.55</td>\n",
              "      <td>12.0</td>\n",
              "      <td>39.73</td>\n",
              "      <td>101</td>\n",
              "      <td>2</td>\n",
              "      <td>4.0</td>\n",
              "      <td>2</td>\n",
              "      <td>0.0</td>\n",
              "    </tr>\n",
              "    <tr>\n",
              "      <th>1710</th>\n",
              "      <td>1</td>\n",
              "      <td>44</td>\n",
              "      <td>63</td>\n",
              "      <td>0</td>\n",
              "      <td>0</td>\n",
              "      <td>246.75</td>\n",
              "      <td>11.2</td>\n",
              "      <td>27.97</td>\n",
              "      <td>97</td>\n",
              "      <td>2</td>\n",
              "      <td>4.0</td>\n",
              "      <td>0</td>\n",
              "      <td>0.0</td>\n",
              "    </tr>\n",
              "  </tbody>\n",
              "</table>\n",
              "</div>\n",
              "    <div class=\"colab-df-buttons\">\n",
              "\n",
              "  <div class=\"colab-df-container\">\n",
              "    <button class=\"colab-df-convert\" onclick=\"convertToInteractive('df-df798575-4256-44d9-a29b-a47e8e1d8831')\"\n",
              "            title=\"Convert this dataframe to an interactive table.\"\n",
              "            style=\"display:none;\">\n",
              "\n",
              "  <svg xmlns=\"http://www.w3.org/2000/svg\" height=\"24px\" viewBox=\"0 -960 960 960\">\n",
              "    <path d=\"M120-120v-720h720v720H120Zm60-500h600v-160H180v160Zm220 220h160v-160H400v160Zm0 220h160v-160H400v160ZM180-400h160v-160H180v160Zm440 0h160v-160H620v160ZM180-180h160v-160H180v160Zm440 0h160v-160H620v160Z\"/>\n",
              "  </svg>\n",
              "    </button>\n",
              "\n",
              "  <style>\n",
              "    .colab-df-container {\n",
              "      display:flex;\n",
              "      gap: 12px;\n",
              "    }\n",
              "\n",
              "    .colab-df-convert {\n",
              "      background-color: #E8F0FE;\n",
              "      border: none;\n",
              "      border-radius: 50%;\n",
              "      cursor: pointer;\n",
              "      display: none;\n",
              "      fill: #1967D2;\n",
              "      height: 32px;\n",
              "      padding: 0 0 0 0;\n",
              "      width: 32px;\n",
              "    }\n",
              "\n",
              "    .colab-df-convert:hover {\n",
              "      background-color: #E2EBFA;\n",
              "      box-shadow: 0px 1px 2px rgba(60, 64, 67, 0.3), 0px 1px 3px 1px rgba(60, 64, 67, 0.15);\n",
              "      fill: #174EA6;\n",
              "    }\n",
              "\n",
              "    .colab-df-buttons div {\n",
              "      margin-bottom: 4px;\n",
              "    }\n",
              "\n",
              "    [theme=dark] .colab-df-convert {\n",
              "      background-color: #3B4455;\n",
              "      fill: #D2E3FC;\n",
              "    }\n",
              "\n",
              "    [theme=dark] .colab-df-convert:hover {\n",
              "      background-color: #434B5C;\n",
              "      box-shadow: 0px 1px 3px 1px rgba(0, 0, 0, 0.15);\n",
              "      filter: drop-shadow(0px 1px 2px rgba(0, 0, 0, 0.3));\n",
              "      fill: #FFFFFF;\n",
              "    }\n",
              "  </style>\n",
              "\n",
              "    <script>\n",
              "      const buttonEl =\n",
              "        document.querySelector('#df-df798575-4256-44d9-a29b-a47e8e1d8831 button.colab-df-convert');\n",
              "      buttonEl.style.display =\n",
              "        google.colab.kernel.accessAllowed ? 'block' : 'none';\n",
              "\n",
              "      async function convertToInteractive(key) {\n",
              "        const element = document.querySelector('#df-df798575-4256-44d9-a29b-a47e8e1d8831');\n",
              "        const dataTable =\n",
              "          await google.colab.kernel.invokeFunction('convertToInteractive',\n",
              "                                                    [key], {});\n",
              "        if (!dataTable) return;\n",
              "\n",
              "        const docLinkHtml = 'Like what you see? Visit the ' +\n",
              "          '<a target=\"_blank\" href=https://colab.research.google.com/notebooks/data_table.ipynb>data table notebook</a>'\n",
              "          + ' to learn more about interactive tables.';\n",
              "        element.innerHTML = '';\n",
              "        dataTable['output_type'] = 'display_data';\n",
              "        await google.colab.output.renderOutput(dataTable, element);\n",
              "        const docLink = document.createElement('div');\n",
              "        docLink.innerHTML = docLinkHtml;\n",
              "        element.appendChild(docLink);\n",
              "      }\n",
              "    </script>\n",
              "  </div>\n",
              "\n",
              "\n",
              "<div id=\"df-88f0d0f9-878b-4ef4-bdea-81dd598004c0\">\n",
              "  <button class=\"colab-df-quickchart\" onclick=\"quickchart('df-88f0d0f9-878b-4ef4-bdea-81dd598004c0')\"\n",
              "            title=\"Suggest charts\"\n",
              "            style=\"display:none;\">\n",
              "\n",
              "<svg xmlns=\"http://www.w3.org/2000/svg\" height=\"24px\"viewBox=\"0 0 24 24\"\n",
              "     width=\"24px\">\n",
              "    <g>\n",
              "        <path d=\"M19 3H5c-1.1 0-2 .9-2 2v14c0 1.1.9 2 2 2h14c1.1 0 2-.9 2-2V5c0-1.1-.9-2-2-2zM9 17H7v-7h2v7zm4 0h-2V7h2v10zm4 0h-2v-4h2v4z\"/>\n",
              "    </g>\n",
              "</svg>\n",
              "  </button>\n",
              "\n",
              "<style>\n",
              "  .colab-df-quickchart {\n",
              "      --bg-color: #E8F0FE;\n",
              "      --fill-color: #1967D2;\n",
              "      --hover-bg-color: #E2EBFA;\n",
              "      --hover-fill-color: #174EA6;\n",
              "      --disabled-fill-color: #AAA;\n",
              "      --disabled-bg-color: #DDD;\n",
              "  }\n",
              "\n",
              "  [theme=dark] .colab-df-quickchart {\n",
              "      --bg-color: #3B4455;\n",
              "      --fill-color: #D2E3FC;\n",
              "      --hover-bg-color: #434B5C;\n",
              "      --hover-fill-color: #FFFFFF;\n",
              "      --disabled-bg-color: #3B4455;\n",
              "      --disabled-fill-color: #666;\n",
              "  }\n",
              "\n",
              "  .colab-df-quickchart {\n",
              "    background-color: var(--bg-color);\n",
              "    border: none;\n",
              "    border-radius: 50%;\n",
              "    cursor: pointer;\n",
              "    display: none;\n",
              "    fill: var(--fill-color);\n",
              "    height: 32px;\n",
              "    padding: 0;\n",
              "    width: 32px;\n",
              "  }\n",
              "\n",
              "  .colab-df-quickchart:hover {\n",
              "    background-color: var(--hover-bg-color);\n",
              "    box-shadow: 0 1px 2px rgba(60, 64, 67, 0.3), 0 1px 3px 1px rgba(60, 64, 67, 0.15);\n",
              "    fill: var(--button-hover-fill-color);\n",
              "  }\n",
              "\n",
              "  .colab-df-quickchart-complete:disabled,\n",
              "  .colab-df-quickchart-complete:disabled:hover {\n",
              "    background-color: var(--disabled-bg-color);\n",
              "    fill: var(--disabled-fill-color);\n",
              "    box-shadow: none;\n",
              "  }\n",
              "\n",
              "  .colab-df-spinner {\n",
              "    border: 2px solid var(--fill-color);\n",
              "    border-color: transparent;\n",
              "    border-bottom-color: var(--fill-color);\n",
              "    animation:\n",
              "      spin 1s steps(1) infinite;\n",
              "  }\n",
              "\n",
              "  @keyframes spin {\n",
              "    0% {\n",
              "      border-color: transparent;\n",
              "      border-bottom-color: var(--fill-color);\n",
              "      border-left-color: var(--fill-color);\n",
              "    }\n",
              "    20% {\n",
              "      border-color: transparent;\n",
              "      border-left-color: var(--fill-color);\n",
              "      border-top-color: var(--fill-color);\n",
              "    }\n",
              "    30% {\n",
              "      border-color: transparent;\n",
              "      border-left-color: var(--fill-color);\n",
              "      border-top-color: var(--fill-color);\n",
              "      border-right-color: var(--fill-color);\n",
              "    }\n",
              "    40% {\n",
              "      border-color: transparent;\n",
              "      border-right-color: var(--fill-color);\n",
              "      border-top-color: var(--fill-color);\n",
              "    }\n",
              "    60% {\n",
              "      border-color: transparent;\n",
              "      border-right-color: var(--fill-color);\n",
              "    }\n",
              "    80% {\n",
              "      border-color: transparent;\n",
              "      border-right-color: var(--fill-color);\n",
              "      border-bottom-color: var(--fill-color);\n",
              "    }\n",
              "    90% {\n",
              "      border-color: transparent;\n",
              "      border-bottom-color: var(--fill-color);\n",
              "    }\n",
              "  }\n",
              "</style>\n",
              "\n",
              "  <script>\n",
              "    async function quickchart(key) {\n",
              "      const quickchartButtonEl =\n",
              "        document.querySelector('#' + key + ' button');\n",
              "      quickchartButtonEl.disabled = true;  // To prevent multiple clicks.\n",
              "      quickchartButtonEl.classList.add('colab-df-spinner');\n",
              "      try {\n",
              "        const charts = await google.colab.kernel.invokeFunction(\n",
              "            'suggestCharts', [key], {});\n",
              "      } catch (error) {\n",
              "        console.error('Error during call to suggestCharts:', error);\n",
              "      }\n",
              "      quickchartButtonEl.classList.remove('colab-df-spinner');\n",
              "      quickchartButtonEl.classList.add('colab-df-quickchart-complete');\n",
              "    }\n",
              "    (() => {\n",
              "      let quickchartButtonEl =\n",
              "        document.querySelector('#df-88f0d0f9-878b-4ef4-bdea-81dd598004c0 button');\n",
              "      quickchartButtonEl.style.display =\n",
              "        google.colab.kernel.accessAllowed ? 'block' : 'none';\n",
              "    })();\n",
              "  </script>\n",
              "</div>\n",
              "\n",
              "    </div>\n",
              "  </div>\n"
            ]
          },
          "metadata": {},
          "execution_count": 17
        }
      ]
    },
    {
      "cell_type": "code",
      "source": [
        "#indenpendent variable\n",
        "X = df2.iloc[:,:-1]\n",
        "\n",
        "#output column\n",
        "Y = df2[\"churn\"]"
      ],
      "metadata": {
        "id": "RYERd49Uw2Yi"
      },
      "execution_count": 18,
      "outputs": []
    },
    {
      "cell_type": "code",
      "source": [
        "#scaling the data\n",
        "# Bringing the mean to 0 and variance to 1, so as to have a non-noisy optimization\n",
        "\n",
        "\n",
        "sc = StandardScaler()\n",
        "X = sc.fit_transform(X)\n",
        "X = sc.transform(X)"
      ],
      "metadata": {
        "id": "XL5wabjcyNM4"
      },
      "execution_count": 19,
      "outputs": []
    },
    {
      "cell_type": "code",
      "source": [
        "n_samples, n_features = X.shape"
      ],
      "metadata": {
        "id": "m_RB79j1yiq7"
      },
      "execution_count": 20,
      "outputs": []
    },
    {
      "cell_type": "code",
      "source": [
        "# import sklearn\n",
        "from sklearn.model_selection import train_test_split"
      ],
      "metadata": {
        "id": "iBqoXEPWyi_R"
      },
      "execution_count": 21,
      "outputs": []
    },
    {
      "cell_type": "code",
      "source": [
        "#splitting data into train and test\n",
        "X_train, X_test, y_train, y_test = train_test_split(X, Y, test_size=0.30, random_state=42, stratify = Y)"
      ],
      "metadata": {
        "id": "HU3p9Hmvyj49"
      },
      "execution_count": 27,
      "outputs": []
    },
    {
      "cell_type": "code",
      "source": [
        "print((y_train == 1).sum())\n",
        "print((y_train == 0).sum())"
      ],
      "metadata": {
        "colab": {
          "base_uri": "https://localhost:8080/"
        },
        "id": "OSrPYbzQyj18",
        "outputId": "d01adede-1b7b-4f67-ad1a-df3eba056406"
      },
      "execution_count": 28,
      "outputs": [
        {
          "output_type": "stream",
          "name": "stdout",
          "text": [
            "630\n",
            "630\n"
          ]
        }
      ]
    },
    {
      "cell_type": "code",
      "source": [
        "print(type(X_train))\n",
        "print(type(X_test))\n",
        "print(type(y_train.values))\n",
        "print(type(y_test.values))"
      ],
      "metadata": {
        "colab": {
          "base_uri": "https://localhost:8080/"
        },
        "id": "sm-Yj2ovyjzL",
        "outputId": "f2f93556-ce43-497a-ee0a-2cf274d0c29e"
      },
      "execution_count": 29,
      "outputs": [
        {
          "output_type": "stream",
          "name": "stdout",
          "text": [
            "<class 'numpy.ndarray'>\n",
            "<class 'numpy.ndarray'>\n",
            "<class 'numpy.ndarray'>\n",
            "<class 'numpy.ndarray'>\n"
          ]
        }
      ]
    },
    {
      "cell_type": "code",
      "source": [
        "# convert np array to the tensor as PyTorch works on Tensor\n",
        "X_train = torch.from_numpy(X_train.astype(np.float32))\n",
        "X_test = torch.from_numpy(X_test.astype(np.float32))\n",
        "\n",
        "y_train = torch.from_numpy(y_train.values.astype(np.float32))\n",
        "y_test = torch.from_numpy(y_test.values.astype(np.float32))"
      ],
      "metadata": {
        "id": "RxZArmuryjwz"
      },
      "execution_count": 30,
      "outputs": []
    },
    {
      "cell_type": "code",
      "source": [
        "# vector Y as a column vector for matrix multiplications\n",
        "\n",
        "y_train = y_train.view(y_train.shape[0], 1)\n",
        "y_test = y_test.view(y_test.shape[0], 1)"
      ],
      "metadata": {
        "id": "xPGce2K_yjto"
      },
      "execution_count": 31,
      "outputs": []
    },
    {
      "cell_type": "code",
      "source": [
        "#logistic regression class\n",
        "class LogisticRegression(nn.Module):\n",
        "    def __init__(self, n_input_features):\n",
        "        super(LogisticRegression, self).__init__()\n",
        "        self.linear = nn.Linear(n_input_features, 1)\n",
        "\n",
        "    #sugmoid transformation of the input\n",
        "    def forward(self, x):\n",
        "        y_pred = torch.sigmoid(self.linear(x))\n",
        "        return y_pred"
      ],
      "metadata": {
        "id": "2tHIfIRszNff"
      },
      "execution_count": 32,
      "outputs": []
    },
    {
      "cell_type": "code",
      "source": [
        "lr = LogisticRegression(n_features)"
      ],
      "metadata": {
        "id": "SSIBQmDtzOS8"
      },
      "execution_count": 33,
      "outputs": []
    },
    {
      "cell_type": "markdown",
      "source": [
        "## SGD optimizer"
      ],
      "metadata": {
        "id": "e-ZAAnvJz0vj"
      }
    },
    {
      "cell_type": "code",
      "source": [
        "num_epochs = 500\n",
        "# Traning the model for large number of epochs to see better results\n",
        "learning_rate = 0.01\n",
        "# We are working on lgistic regression so using Binary Cross Entropy\n",
        "criterion = nn.BCELoss()\n",
        "\n",
        "# Using SGD optimizer to find local minima\n",
        "optimizer = torch.optim.SGD(lr.parameters(), lr=learning_rate)\n"
      ],
      "metadata": {
        "id": "8Kp9VJzhzOPq"
      },
      "execution_count": 35,
      "outputs": []
    },
    {
      "cell_type": "code",
      "source": [
        "for epoch in range(num_epochs):\n",
        "    y_pred = lr(X_train)\n",
        "    loss = criterion(y_pred, y_train)\n",
        "    loss.backward()\n",
        "    optimizer.step()\n",
        "    optimizer.zero_grad()\n",
        "    if (epoch+1) % 20 == 0:\n",
        "        # printing loss values on every 10 epochs to keep track\n",
        "        print(f'epoch: {epoch+1}, loss = {loss.item():.4f}')"
      ],
      "metadata": {
        "colab": {
          "base_uri": "https://localhost:8080/"
        },
        "id": "3KMoxDGtz3wg",
        "outputId": "3b8e491b-b62d-45e0-c82e-47c9880a05cb"
      },
      "execution_count": 36,
      "outputs": [
        {
          "output_type": "stream",
          "name": "stdout",
          "text": [
            "epoch: 20, loss = 0.7310\n",
            "epoch: 40, loss = 0.6962\n",
            "epoch: 60, loss = 0.6760\n",
            "epoch: 80, loss = 0.6637\n",
            "epoch: 100, loss = 0.6556\n",
            "epoch: 120, loss = 0.6498\n",
            "epoch: 140, loss = 0.6454\n",
            "epoch: 160, loss = 0.6419\n",
            "epoch: 180, loss = 0.6389\n",
            "epoch: 200, loss = 0.6363\n",
            "epoch: 220, loss = 0.6339\n",
            "epoch: 240, loss = 0.6317\n",
            "epoch: 260, loss = 0.6296\n",
            "epoch: 280, loss = 0.6277\n",
            "epoch: 300, loss = 0.6259\n",
            "epoch: 320, loss = 0.6241\n",
            "epoch: 340, loss = 0.6224\n",
            "epoch: 360, loss = 0.6208\n",
            "epoch: 380, loss = 0.6193\n",
            "epoch: 400, loss = 0.6178\n",
            "epoch: 420, loss = 0.6163\n",
            "epoch: 440, loss = 0.6149\n",
            "epoch: 460, loss = 0.6136\n",
            "epoch: 480, loss = 0.6123\n",
            "epoch: 500, loss = 0.6111\n"
          ]
        }
      ]
    },
    {
      "cell_type": "code",
      "source": [
        "with torch.no_grad():\n",
        "    y_predicted = lr(X_test)\n",
        "    y_predicted_cls = y_predicted.round()\n",
        "    acc = y_predicted_cls.eq(y_test).sum() / float(y_test.shape[0])\n",
        "    print(f'accuracy: {acc.item():.4f}')"
      ],
      "metadata": {
        "colab": {
          "base_uri": "https://localhost:8080/"
        },
        "id": "vrGO5_nJz3tY",
        "outputId": "aa667cd0-833b-41ef-b9e0-78e1b90ba0e2"
      },
      "execution_count": 37,
      "outputs": [
        {
          "output_type": "stream",
          "name": "stdout",
          "text": [
            "accuracy: 0.6519\n"
          ]
        }
      ]
    },
    {
      "cell_type": "markdown",
      "source": [
        "## ADAM optimizer"
      ],
      "metadata": {
        "id": "lz-bfA0R0Fej"
      }
    },
    {
      "cell_type": "code",
      "source": [
        "# Using ADAM optimizer to find local minima\n",
        "\n",
        "num_epochs = 500\n",
        "# Traning the model for large number of epochs to see better results\n",
        "learning_rate = 0.01\n",
        "\n",
        "# We are working on lgistic regression so using Binary Cross Entropy\n",
        "criterion = nn.BCELoss()\n",
        "\n",
        "optimizer = torch.optim.Adam(lr.parameters(), lr=learning_rate)\n",
        "\n",
        "\n",
        "\n",
        "for epoch in range(num_epochs):\n",
        "    y_pred = lr(X_train)\n",
        "    loss = criterion(y_pred, y_train)\n",
        "    loss.backward()\n",
        "    optimizer.step()\n",
        "    optimizer.zero_grad()\n",
        "    if (epoch+1) % 20 == 0:\n",
        "        # printing loss values on every 10 epochs to keep track\n",
        "        print(f'epoch: {epoch+1}, loss = {loss.item():.4f}')"
      ],
      "metadata": {
        "colab": {
          "base_uri": "https://localhost:8080/"
        },
        "id": "vStq_99OzONJ",
        "outputId": "94511738-1ea2-4ade-9fa3-16ef3d62c623"
      },
      "execution_count": 38,
      "outputs": [
        {
          "output_type": "stream",
          "name": "stdout",
          "text": [
            "epoch: 20, loss = 0.5972\n",
            "epoch: 40, loss = 0.5868\n",
            "epoch: 60, loss = 0.5799\n",
            "epoch: 80, loss = 0.5754\n",
            "epoch: 100, loss = 0.5724\n",
            "epoch: 120, loss = 0.5703\n",
            "epoch: 140, loss = 0.5688\n",
            "epoch: 160, loss = 0.5674\n",
            "epoch: 180, loss = 0.5662\n",
            "epoch: 200, loss = 0.5651\n",
            "epoch: 220, loss = 0.5639\n",
            "epoch: 240, loss = 0.5628\n",
            "epoch: 260, loss = 0.5617\n",
            "epoch: 280, loss = 0.5605\n",
            "epoch: 300, loss = 0.5594\n",
            "epoch: 320, loss = 0.5583\n",
            "epoch: 340, loss = 0.5571\n",
            "epoch: 360, loss = 0.5560\n",
            "epoch: 380, loss = 0.5550\n",
            "epoch: 400, loss = 0.5539\n",
            "epoch: 420, loss = 0.5528\n",
            "epoch: 440, loss = 0.5518\n",
            "epoch: 460, loss = 0.5508\n",
            "epoch: 480, loss = 0.5498\n",
            "epoch: 500, loss = 0.5489\n"
          ]
        }
      ]
    },
    {
      "cell_type": "code",
      "source": [
        "with torch.no_grad():\n",
        "    y_predicted = lr(X_test)\n",
        "    y_predicted_cls = y_predicted.round()\n",
        "    acc = y_predicted_cls.eq(y_test).sum() / float(y_test.shape[0])\n",
        "    print(f'accuracy: {acc.item():.4f}')"
      ],
      "metadata": {
        "colab": {
          "base_uri": "https://localhost:8080/"
        },
        "id": "QMDJ1OdrzOKK",
        "outputId": "2b022729-9e07-4bc4-c1a9-78c23d77579e"
      },
      "execution_count": 39,
      "outputs": [
        {
          "output_type": "stream",
          "name": "stdout",
          "text": [
            "accuracy: 0.6852\n"
          ]
        }
      ]
    },
    {
      "cell_type": "code",
      "source": [
        "# Looking other Metrics: We can also see the precision, recall, and F1-score using classification report\n",
        "\n",
        "#classification report\n",
        "from sklearn.metrics import classification_report\n",
        "print(classification_report(y_test, y_predicted_cls))"
      ],
      "metadata": {
        "colab": {
          "base_uri": "https://localhost:8080/"
        },
        "id": "l_Atm2tD0O_X",
        "outputId": "2b215956-09f7-4bd2-f18d-58a2d24adf68"
      },
      "execution_count": 40,
      "outputs": [
        {
          "output_type": "stream",
          "name": "stdout",
          "text": [
            "              precision    recall  f1-score   support\n",
            "\n",
            "         0.0       0.66      0.77      0.71       270\n",
            "         1.0       0.72      0.60      0.66       270\n",
            "\n",
            "    accuracy                           0.69       540\n",
            "   macro avg       0.69      0.69      0.68       540\n",
            "weighted avg       0.69      0.69      0.68       540\n",
            "\n"
          ]
        }
      ]
    },
    {
      "cell_type": "code",
      "source": [
        "#confusion matrix\n",
        "from sklearn.metrics import confusion_matrix\n",
        "confusion_matrix = confusion_matrix(y_test, y_predicted_cls)\n",
        "print(confusion_matrix)"
      ],
      "metadata": {
        "colab": {
          "base_uri": "https://localhost:8080/"
        },
        "id": "vOtuZPGa0ehT",
        "outputId": "4cfb8707-6aa4-4808-c57d-8e260a078985"
      },
      "execution_count": 41,
      "outputs": [
        {
          "output_type": "stream",
          "name": "stdout",
          "text": [
            "[[207  63]\n",
            " [107 163]]\n"
          ]
        }
      ]
    },
    {
      "cell_type": "code",
      "source": [],
      "metadata": {
        "id": "9r6T4SNC0tPx"
      },
      "execution_count": null,
      "outputs": []
    },
    {
      "cell_type": "code",
      "source": [],
      "metadata": {
        "id": "NYqZ7vkW0tMl"
      },
      "execution_count": null,
      "outputs": []
    },
    {
      "cell_type": "markdown",
      "source": [
        "https://towardsdatascience.com/logistic-regression-with-pytorch-3c8bbea594be"
      ],
      "metadata": {
        "id": "zE0k3OOD0sAl"
      }
    },
    {
      "cell_type": "code",
      "source": [
        "# logistic regression model\n",
        "import torch\n",
        "class LogisticRegression(torch.nn.Module):\n",
        "     def __init__(self, input_dim, output_dim):\n",
        "         super(LogisticRegression, self).__init__()\n",
        "         self.linear = torch.nn.Linear(input_dim, output_dim)\n",
        "     def forward(self, x):\n",
        "         outputs = torch.sigmoid(self.linear(x))\n",
        "         return outputs\n",
        "\n"
      ],
      "metadata": {
        "id": "OhptPVpZ0wX4"
      },
      "execution_count": null,
      "outputs": []
    }
  ]
}